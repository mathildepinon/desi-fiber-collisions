{
 "cells": [
  {
   "cell_type": "code",
   "execution_count": 1,
   "id": "a930f53b-22c8-43f0-b7da-573ef5b72c6e",
   "metadata": {
    "tags": []
   },
   "outputs": [],
   "source": [
    "import os \n",
    "import sys\n",
    "\n",
    "import numpy as np\n",
    "%matplotlib inline\n",
    "import matplotlib.pyplot as plt\n",
    "\n",
    "from desilike.samples import Profiles, Chain, plotting\n",
    "\n",
    "plt.style.use(os.path.join(os.path.abspath('../bin'), 'plot_style.mplstyle'))\n",
    "plots_dir = '../../plots/'"
   ]
  },
  {
   "cell_type": "code",
   "execution_count": 2,
   "id": "71ab46f1-5ea8-4a3e-91c8-29663f36bcad",
   "metadata": {
    "tags": []
   },
   "outputs": [],
   "source": [
    "tracer = 'ELG_LOPnotqso'\n",
    "region = 'GCcomb'\n",
    "zrange = (1.1, 1.6)\n",
    "version = 'v4_1fixran'\n",
    "data_dir = '/global/cfs/cdirs/desi/users/mpinon/secondGenMocksY1/{}'.format(version)\n",
    "nmocks = 25\n",
    "\n",
    "template_name = 'shapefitqisoqap'\n",
    "\n",
    "emulator_dir = os.path.join(data_dir, 'emulators/emulators_{}_{}'.format(template_name, tracer))\n",
    "chains_dir = os.path.join(data_dir, 'chains', 'chains_{}_{{}}_z{:.3f}-z{:.3f}_{{}}_{}'.format(template_name, zrange[0], zrange[1], region), 'physicalpriorbasis')\n",
    "\n",
    "chain_altmtl_thetacut_25mocks = Chain.concatenate([Chain.load(os.path.join(chains_dir.format(tracer, 'altmtl'), 'corr_velocileptors_ezmockscov_thetacut0.05_{:d}.npy'.format(i))).remove_burnin(0.5)[::10] for i in range(8)])\n",
    "\n",
    "chains_complete = [Chain.concatenate([Chain.load(os.path.join(chains_dir.format(tracer[:7], 'complete'), 'corr_mock{}_velocileptors_ezmockscov_{:d}.npy'.format(imock, i))).remove_burnin(0.5)[::10] for i in range(8)]) for imock in range(nmocks)]\n",
    "chains_complete_thetacut = [Chain.load(os.path.join(chains_dir.format(tracer[:7], 'complete'), 'corr_importance_mock{}_velocileptors_ezmockscov_thetacut0.05.npy'.format(imock))) for imock in range(nmocks)]\n",
    "chains_altmtl = [Chain.concatenate([Chain.load(os.path.join(chains_dir.format(tracer, 'altmtl'), 'corr_mock{}_velocileptors_ezmockscov_{:d}.npy'.format(imock, i))).remove_burnin(0.5)[::10] for i in range(8)]) for imock in range(nmocks)]\n",
    "chains_altmtl_thetacut = [Chain.concatenate([Chain.load(os.path.join(chains_dir.format(tracer, 'altmtl'), 'corr_mock{}_velocileptors_ezmockscov_thetacut0.05_{:d}.npy'.format(imock, i))).remove_burnin(0.5)[::10] for i in range(8)]) for imock in range(nmocks)]"
   ]
  },
  {
   "cell_type": "code",
   "execution_count": 7,
   "id": "a98ae409-2f0a-4d6e-bc84-f8236a902818",
   "metadata": {},
   "outputs": [
    {
     "name": "stdout",
     "output_type": "stream",
     "text": [
      "qiso\n",
      "Y1 error:  0.01665496325352485\n",
      "theta-cut - complete: 1.0763435034899516e-05 +- 2.8418983728301913e-05 (0.065% of DR1 error)\n",
      "altmtl - complete: -0.003126264450147476 +- 0.0024925049858054316 (-18.771% of DR1 error)\n",
      "theta-cut altmtl - complete: -0.0032781061213483253 +- 0.0024412376374267257 (-19.682% of DR1 error)\n",
      "qap\n",
      "Y1 error:  0.032451065140344085\n",
      "theta-cut - complete: -2.437179884626772e-05 +- 6.871150748427785e-05 (-0.075% of DR1 error)\n",
      "altmtl - complete: -0.03248472235345435 +- 0.0064123259379493276 (-100.104% of DR1 error)\n",
      "theta-cut altmtl - complete: 0.00700050927333911 +- 0.006433657324685855 (21.573% of DR1 error)\n",
      "dm\n",
      "Y1 error:  0.052458928959552745\n",
      "theta-cut - complete: 6.601075681495176e-05 +- 7.085069565014979e-05 (0.126% of DR1 error)\n",
      "altmtl - complete: 0.039767933300950485 +- 0.00818074754016121 (75.808% of DR1 error)\n",
      "theta-cut altmtl - complete: 0.017240615967053556 +- 0.008081940422670231 (32.865% of DR1 error)\n",
      "df\n",
      "Y1 error:  0.09079799285080725\n",
      "theta-cut - complete: 0.00011607820866160967 +- 0.00018041662913278068 (0.128% of DR1 error)\n",
      "altmtl - complete: 0.046624782598814925 +- 0.01620740497855532 (51.350% of DR1 error)\n",
      "theta-cut altmtl - complete: -0.01309884900270215 +- 0.016024350874384842 (-14.426% of DR1 error)\n",
      "b1p\n",
      "Y1 error:  0.04898490863022161\n",
      "theta-cut - complete: 2.3641396784745972e-05 +- 5.654608809546155e-05 (0.048% of DR1 error)\n",
      "altmtl - complete: -0.0021994045223541737 +- 0.0074703076554553565 (-4.490% of DR1 error)\n",
      "theta-cut altmtl - complete: 0.003005424197171802 +- 0.007333060284373706 (6.135% of DR1 error)\n"
     ]
    },
    {
     "data": {
      "image/png": "[encoded data removed]",
      "text/plain": [
       "<Figure size 350x416.667 with 5 Axes>"
      ]
     },
     "metadata": {},
     "output_type": "display_data"
    }
   ],
   "source": [
    "plt.rcParams[\"figure.autolayout\"] = False\n",
    "\n",
    "params = ['qiso', 'qap', 'dm', 'df', 'b1p']\n",
    "ncols = len(params)\n",
    "figsize = (3.5, ncols/1.2)\n",
    "fig, lax = plt.subplots(ncols, 1, figsize=figsize, sharex=True)\n",
    "\n",
    "diff_mean_list = []\n",
    "diff_std_list = []\n",
    "desi_y1_err_list = []\n",
    "\n",
    "for iparam, param in enumerate(params):\n",
    "    bestfit_vals = np.array([chain.mean(param) for chain in chains_complete])\n",
    "    bestfit_vals_thetacut = np.array([chain.mean(param) for chain in chains_complete_thetacut])\n",
    "    bestfit_diff = bestfit_vals_thetacut - bestfit_vals\n",
    "    \n",
    "    bestfit_vals_altmtl = np.array([chain.mean(param) for chain in chains_altmtl])\n",
    "    bestfit_diff_altmtl = bestfit_vals_altmtl - bestfit_vals\n",
    "    bestfit_vals_altmtl_thetacut = np.array([chain.mean(param) for chain in chains_altmtl_thetacut])\n",
    "    bestfit_diff_altmtl_thetacut = bestfit_vals_altmtl_thetacut - bestfit_vals\n",
    "\n",
    "    diff_mean = np.mean(bestfit_diff)\n",
    "    diff_mean_list.append(diff_mean)\n",
    "    diff_std = np.std(bestfit_diff)/5.\n",
    "    diff_std_list.append(diff_std)\n",
    "\n",
    "    diff_mean_altmtl = np.mean(bestfit_diff_altmtl)\n",
    "    diff_std_altmtl = np.std(bestfit_diff_altmtl)/5.\n",
    "    diff_mean_altmtl_thetacut = np.mean(bestfit_diff_altmtl_thetacut)\n",
    "    diff_std_altmtl_thetacut = np.std(bestfit_diff_altmtl_thetacut)/5.\n",
    "\n",
    "    # DESI Y1 error\n",
    "    desi_y1_err = chain_altmtl_thetacut_25mocks.std(param)\n",
    "    desi_y1_err_list.append(desi_y1_err)\n",
    "    \n",
    "    print(param)\n",
    "    print('Y1 error: ', desi_y1_err)\n",
    "    print('theta-cut - complete:', diff_mean, '+- {}'.format(diff_std), '({:.3f}% of DR1 error)'.format(diff_mean/desi_y1_err*100))\n",
    "    print('altmtl - complete:', diff_mean_altmtl, '+- {}'.format(diff_std_altmtl), '({:.3f}% of DR1 error)'.format(diff_mean_altmtl/desi_y1_err*100))\n",
    "    print('theta-cut altmtl - complete:', diff_mean_altmtl_thetacut, '+- {}'.format(diff_std_altmtl_thetacut), '({:.3f}% of DR1 error)'.format(diff_mean_altmtl_thetacut/desi_y1_err*100))\n",
    "    \n",
    "    x = np.arange(len(bestfit_diff))\n",
    "    ax = lax[iparam]\n",
    "    ax.axhline(0, ls='--', color='grey', lw=0.7)\n",
    "    ax.axhline(diff_mean, ls='--', color='C0', lw=0.7)\n",
    "    ax.fill_between(x, diff_mean - diff_std, diff_mean + diff_std, facecolor='C0', alpha=0.2)\n",
    "    ax.plot(x, bestfit_diff, marker='.', ls='')\n",
    "    #ax.axhline(diff_mean_altmtl, ls='--', color='C1', lw=0.7)\n",
    "    #ax.fill_between(x, diff_mean_altmtl - diff_std_altmtl, diff_mean_altmtl + diff_std_altmtl, facecolor='C1', alpha=0.2)\n",
    "    #ax.plot(x, bestfit_diff_altmtl, marker='.', ls='', color='C1')\n",
    "    ax.set_ylabel(r'$\\Delta$'+chains_complete[0].params()[param].latex(inline=True))\n",
    "    \n",
    "    ax.fill_between(x, -desi_y1_err/5., desi_y1_err/5., facecolor='grey', alpha=0.1)\n",
    "    #ax.set_ylim(-desi_y1_err/4.5, desi_y1_err/4.5)\n",
    "    ax.set_xlim(0, np.max(x))\n",
    "    \n",
    "ax.set_xlabel('mock realization')\n",
    "fig = plt.gcf()\n",
    "fig.align_ylabels()\n",
    "plt.tight_layout()\n",
    "plt.subplots_adjust(hspace=0.1)\n",
    "plt.savefig(os.path.join(plots_dir, version, 'corr_mean_posterior_{}mocks_{}_complete_{}_z{:.1f}-{:.1f}_thetacut0.05_firstparams.pdf'.format(nmocks, tracer, region, zrange[0], zrange[1])), dpi=300)\n",
    "plt.show()"
   ]
  },
  {
   "cell_type": "code",
   "execution_count": 8,
   "id": "0e6b394b-8d38-48a0-8cf6-99fdb1304a6e",
   "metadata": {
    "tags": []
   },
   "outputs": [
    {
     "name": "stdout",
     "output_type": "stream",
     "text": [
      "b2p\n",
      "Y1 error:  0.5537755842604636\n",
      "theta-cut - complete: -0.00013518531625715646 +- 0.0021566749965960747 (-0.024% of DR1 error)\n",
      "bsp\n",
      "Y1 error:  0.5961963564237527\n",
      "theta-cut - complete: 5.508426384509546e-05 +- 0.0016712297670877063 (0.009% of DR1 error)\n",
      "alpha0p\n",
      "Y1 error:  8.122135732807319\n",
      "theta-cut - complete: -0.005058253126096189 +- 0.00690691474934472 (-0.062% of DR1 error)\n",
      "alpha2p\n",
      "Y1 error:  9.747449861973863\n",
      "theta-cut - complete: -0.0017789851025442633 +- 0.0072844577785598375 (-0.018% of DR1 error)\n",
      "alpha4p\n",
      "Y1 error:  7.792293303778313\n",
      "theta-cut - complete: -0.0026623208383145134 +- 0.030438773594575336 (-0.034% of DR1 error)\n"
     ]
    },
    {
     "data": {
      "image/png": "[encoded data removed]",
      "text/plain": [
       "<Figure size 350x416.667 with 5 Axes>"
      ]
     },
     "metadata": {},
     "output_type": "display_data"
    }
   ],
   "source": [
    "params = ['b2p', 'bsp', 'alpha0p', 'alpha2p', 'alpha4p']\n",
    "ncols = len(params)\n",
    "figsize = (3.5, ncols/1.2)\n",
    "fig, lax = plt.subplots(ncols, 1, figsize=figsize, sharex=True)\n",
    "\n",
    "diff_mean_list = []\n",
    "diff_std_list = []\n",
    "desi_y1_err_list = []\n",
    "\n",
    "for iparam, param in enumerate(params):\n",
    "    bestfit_vals = np.array([chain.mean(param) for chain in chains_complete])\n",
    "    bestfit_vals_thetacut = np.array([chain.mean(param) for chain in chains_complete_thetacut])\n",
    "    bestfit_diff = bestfit_vals_thetacut - bestfit_vals\n",
    "\n",
    "    diff_mean = np.mean(bestfit_diff)\n",
    "    diff_mean_list.append(diff_mean)\n",
    "    diff_std = np.std(bestfit_diff)/5.\n",
    "    diff_std_list.append(diff_std)\n",
    "    \n",
    "    # DESI Y1 error\n",
    "    desi_y1_err = chain_altmtl_thetacut_25mocks.std(param)\n",
    "    desi_y1_err_list.append(desi_y1_err)\n",
    "\n",
    "    print(param)\n",
    "    print('Y1 error: ', desi_y1_err)\n",
    "    print('theta-cut - complete:', diff_mean, '+- {}'.format(diff_std), '({:.3f}% of DR1 error)'.format(diff_mean/desi_y1_err*100))\n",
    "    \n",
    "    x = np.arange(len(bestfit_diff))\n",
    "    ax = lax[iparam]\n",
    "    ax.axhline(0, ls='--', color='grey', lw=0.7)\n",
    "    ax.axhline(diff_mean, ls='--', color='C0', lw=0.7)\n",
    "    ax.fill_between(x, diff_mean - diff_std, diff_mean + diff_std, facecolor='C0', alpha=0.2)\n",
    "    ax.plot(x, bestfit_diff, marker='.', ls='')\n",
    "    ax.set_ylabel(r'$\\Delta$'+chains_complete[0].params()[param].latex(inline=True))\n",
    "    \n",
    "    ax.fill_between(x, -desi_y1_err/5., desi_y1_err/5., facecolor='grey', alpha=0.1)\n",
    "    #ax.set_ylim(-desi_y1_err/4.5, desi_y1_err/4.5)\n",
    "    ax.set_xlim(0, np.max(x))\n",
    "    \n",
    "ax.set_xticks([0, 10, 20])\n",
    "ax.set_xlabel('mock realization')\n",
    "fig = plt.gcf()\n",
    "fig.align_ylabels()\n",
    "plt.tight_layout()\n",
    "plt.subplots_adjust(hspace=0.1)\n",
    "plt.savefig(os.path.join(plots_dir, version, 'corr_mean_posterior_{}mocks_{}_complete_{}_z{:.1f}-{:.1f}_thetacut0.05_otherparams.pdf'.format(nmocks, tracer, region, zrange[0], zrange[1])), dpi=300)\n",
    "plt.show()"
   ]
  },
  {
   "cell_type": "code",
   "execution_count": 32,
   "id": "f8a15221-ab33-48af-a462-28557f301bc5",
   "metadata": {
    "tags": []
   },
   "outputs": [
    {
     "name": "stdout",
     "output_type": "stream",
     "text": [
      "\\begin{tabular}{llllr}\n",
      "\\hline\n",
      "                                                                & $\\theta$-cut complete   & altMTL             & $\\theta$-cut altMTL   &   DR1 error \\\\\n",
      "\\hline\n",
      " $q_{\\mathrm{iso}}$ $-$ $q_{\\mathrm{iso}}$$(\\mathrm{complete})$ & $0.00001 \\pm 0.00003$   & $-0.003 \\pm 0.002$ & $-0.003 \\pm 0.002$    &       0.017 \\\\\n",
      " $q_{\\mathrm{ap}}$ $-$ $q_{\\mathrm{ap}}$$(\\mathrm{complete})$   & $-0.00002 \\pm 0.00007$  & $-0.032 \\pm 0.006$ & $0.007 \\pm 0.006$     &       0.032 \\\\\n",
      " $dm$ $-$ $dm$$(\\mathrm{complete})$                             & $0.00007 \\pm 0.00007$   & $0.040 \\pm 0.008$  & $0.017 \\pm 0.008$     &       0.052 \\\\\n",
      " $df$ $-$ $df$$(\\mathrm{complete})$                             & $0.00012 \\pm 0.00018$   & $0.047 \\pm 0.016$  & $-0.013 \\pm 0.016$    &       0.091 \\\\\n",
      " $b_{1}$ $-$ $b_{1}$$(\\mathrm{complete})$                       & $0.00002 \\pm 0.00006$   & $-0.002 \\pm 0.007$ & $0.003 \\pm 0.007$     &       0.049 \\\\\n",
      " $b_{2}$ $-$ $b_{2}$$(\\mathrm{complete})$                       & $-0.00014 \\pm 0.00216$  & $0.110 \\pm 0.107$  & $-0.075 \\pm 0.112$    &       0.55  \\\\\n",
      " $b_{s}$ $-$ $b_{s}$$(\\mathrm{complete})$                       & $0.00006 \\pm 0.00167$   & $-0.016 \\pm 0.071$ & $0.130 \\pm 0.078$     &       0.6   \\\\\n",
      "\\hline\n",
      "\\end{tabular}\n"
     ]
    }
   ],
   "source": [
    "import tabulate\n",
    "\n",
    "quantities = ['', r'$\\theta$-cut complete', r'altMTL', r'$\\theta$-cut altMTL', 'DR1 error']\n",
    "data = []\n",
    "for param in ['qiso', 'qap', 'dm', 'df', 'b1p', 'b2p', 'bsp']:\n",
    "    row = []\n",
    "    param_latex = chain_altmtl_thetacut_25mocks[0][param].param.latex(inline=True)\n",
    "    rowname = r'{} $-$ {}$(\\mathrm{{complete}})$'.format(param_latex, param_latex)\n",
    "    row.append(rowname)\n",
    "    desi_y1_err = chain_altmtl_thetacut_25mocks.std(param)\n",
    "    \n",
    "    bestfit_vals_complete = np.array([chain.mean(param) for chain in chains_complete])\n",
    "    \n",
    "    for i, chains in enumerate([chains_complete_thetacut, chains_altmtl, chains_altmtl_thetacut]):\n",
    "        bestfit_vals = np.array([chain.mean(param) for chain in chains])\n",
    "        bestfit_diff = bestfit_vals - bestfit_vals_complete\n",
    "\n",
    "        diff_mean = np.mean(bestfit_diff)\n",
    "        diff_std = np.std(bestfit_diff)/5.\n",
    "        if i==0:\n",
    "            row.append(r'${:.5f} \\pm {:.5f}$'.format(diff_mean, diff_std))\n",
    "        else:\n",
    "            row.append(r'${:.3f} \\pm {:.3f}$'.format(diff_mean, diff_std))\n",
    "    row.append(r'{:.2g}'.format(desi_y1_err))\n",
    "    data.append(row)\n",
    "tab = tabulate.tabulate(data, headers=quantities, tablefmt='latex_raw')\n",
    "print(tab)"
   ]
  }
 ],
 "metadata": {
  "kernelspec": {
   "display_name": "cosmodesi-main",
   "language": "python",
   "name": "cosmodesi-main"
  },
  "language_info": {
   "codemirror_mode": {
    "name": "ipython",
    "version": 3
   },
   "file_extension": ".py",
   "mimetype": "text/x-python",
   "name": "python",
   "nbconvert_exporter": "python",
   "pygments_lexer": "ipython3",
   "version": "3.10.13"
  }
 },
 "nbformat": 4,
 "nbformat_minor": 5
}
