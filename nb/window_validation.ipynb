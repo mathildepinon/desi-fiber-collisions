{
 "cells": [
  {
   "cell_type": "markdown",
   "id": "11c3bf5a-5d9a-4fec-8f7b-6ebf7a4d9c70",
   "metadata": {},
   "source": [
    "# Compare $W(k, k^{\\prime}) \\times P_{\\mathrm{cubic}}(k^{\\prime})$ and $P_{\\mathrm{cutsky}}(k)$ to validate window computation"
   ]
  },
  {
   "cell_type": "code",
   "execution_count": 1,
   "id": "177a7f59-b651-4dfb-89e2-e4e7b98718ba",
   "metadata": {
    "tags": []
   },
   "outputs": [],
   "source": [
    "import os\n",
    "import sys\n",
    "\n",
    "import numpy as np\n",
    "from matplotlib import pyplot as plt\n",
    "\n",
    "from desilike.samples import Profiles\n",
    "\n",
    "sys.path.append('../bin')\n",
    "from utils import load_poles, load_poles_list\n",
    "from desi_file_manager import DESIFileName\n",
    "from local_file_manager import LocalFileName\n",
    "\n",
    "# plotting\n",
    "plt.style.use(os.path.join(os.path.abspath('../bin'), 'plot_style.mplstyle'))\n",
    "plots_dir = '../../plots/'"
   ]
  },
  {
   "cell_type": "markdown",
   "id": "c97b3b62-ad6e-4cee-8b62-5eb0034a8607",
   "metadata": {},
   "source": [
    "### Global parameters"
   ]
  },
  {
   "cell_type": "code",
   "execution_count": 2,
   "id": "74dad4d3-531a-44a5-9c3b-7ca94bf8b53c",
   "metadata": {
    "tags": []
   },
   "outputs": [],
   "source": [
    "# official desi ('desi') or locally ('local') generated window/pk\n",
    "source = 'desi'\n",
    "cubicsource = 'desi'\n",
    "\n",
    "# mocks/version\n",
    "catalog = 'second'\n",
    "version = 'v4_1'\n",
    "imocks = range(25)\n",
    "\n",
    "# tracer\n",
    "tracer = 'ELG_LOP'\n",
    "region = 'SGC'\n",
    "completeness = True\n",
    "zrange = (1.1, 1.6)\n",
    "z = 1.325\n",
    "\n",
    "# multipoles\n",
    "ells = (0, 2, 4)\n",
    "ktmax = 0.35\n",
    "krange = (0.02, 0.2, 0.005)\n",
    "\n",
    "# cut\n",
    "rpcut = 0.\n",
    "thetacut = 0.05"
   ]
  },
  {
   "cell_type": "markdown",
   "id": "48171e4e-5b14-4e0b-bf7c-fc01d4a1344b",
   "metadata": {},
   "source": [
    "## $P_{\\mathrm{cubic}}(k)$"
   ]
  },
  {
   "cell_type": "code",
   "execution_count": 3,
   "id": "1e3bf381-26f8-415a-8aa2-f26956cb8f24",
   "metadata": {
    "tags": []
   },
   "outputs": [],
   "source": [
    "if cubicsource == 'local':\n",
    "    fn = LocalFileName()\n",
    "    fn.set_default_config(mockgen='cubic', tracer=tracer, z=z)\n",
    "    cubic_pk = load_poles_list([fn.get_path(realization=imock, los=los) for los in ('xyz') for imock in range(25)])\n",
    "\n",
    "if cubicsource == 'desi':\n",
    "    fn = DESIFileName()\n",
    "    fn.set_default_config(mocktype='SecondGenMocks/CubicBox', tracer=tracer, zrange=z, version='v1.1')\n",
    "    cubic_pk = load_poles_list([fn.get_path(realization=imock, los=los) for los in ('xyz') for imock in range(25)])"
   ]
  },
  {
   "cell_type": "markdown",
   "id": "0b922683-383d-418b-bf5a-b1eb34b5f447",
   "metadata": {},
   "source": [
    "### Model fitted on $P_{\\mathrm{cubic}}(k)$"
   ]
  },
  {
   "cell_type": "code",
   "execution_count": 4,
   "id": "71ab46f1-5ea8-4a3e-91c8-29663f36bcad",
   "metadata": {},
   "outputs": [],
   "source": [
    "data_dir = '/global/cfs/cdirs/desi/users/mpinon/cubicSecondGenMocks{}/z{:.3f}'.format('/desi' if cubicsource=='desi' else '', z)\n",
    "\n",
    "template_name = 'shapefitqisoqap'\n",
    "\n",
    "emulator_dir = os.path.join(data_dir, 'emulators/emulators_{}_ELG'.format(template_name))\n",
    "profiles_dir = os.path.join(data_dir, 'profiles/profiles_{}_ELG'.format(template_name))\n",
    "profile_cubic = Profiles.load(os.path.join(profiles_dir, 'power_velocileptors.npy'))"
   ]
  },
  {
   "cell_type": "code",
   "execution_count": 5,
   "id": "cb7b1a45-9d69-4a85-b018-a381cac8e98e",
   "metadata": {
    "tags": []
   },
   "outputs": [],
   "source": [
    "#likelihood = get_power_likelihood(data_type=data_type, tracer=tracer, region=region, completeness='complete_', solve=False, fc='', rp_cut=rp_cut, emulator_fn=os.path.join(emulator_dir.format('complete_'), '{}_{{}}.npy'.format(stat)))\n",
    "\n",
    "#likelihood.solved_default = '.best'\n",
    "#likelihood(**profile_cubic.bestfit.choice(input=True))\n",
    "#box_obs = likelihood.observables[0]\n",
    "#box_theory = box_obs.theory"
   ]
  },
  {
   "cell_type": "code",
   "execution_count": 6,
   "id": "ab1ac66f-a6d8-4c84-aa95-6088138bbd34",
   "metadata": {
    "tags": []
   },
   "outputs": [
    {
     "data": {
      "text/plain": [
       "'/global/cfs/cdirs/desi/users/mpinon/cubicSecondGenMocks/desi/z1.325/profiles/profiles_shapefitqisoqap_ELG/power_velocileptors.npy'"
      ]
     },
     "execution_count": 6,
     "metadata": {},
     "output_type": "execute_result"
    }
   ],
   "source": [
    "os.path.join(profiles_dir, 'power_velocileptors.npy')"
   ]
  },
  {
   "cell_type": "markdown",
   "id": "533180ff-95a2-4ed9-954d-70437e036cbc",
   "metadata": {},
   "source": [
    "## Window matrix $W(k, k^{\\prime})$"
   ]
  },
  {
   "cell_type": "code",
   "execution_count": 7,
   "id": "eae25b1c-6948-40c6-a93d-86f949b1a991",
   "metadata": {
    "tags": []
   },
   "outputs": [
    {
     "data": {
      "text/plain": [
       "<pypower.wide_angle.BaseMatrix at 0x7f391c7034f0>"
      ]
     },
     "execution_count": 7,
     "metadata": {},
     "output_type": "execute_result"
    }
   ],
   "source": [
    "from pypower import BaseMatrix\n",
    "\n",
    "if source == 'desi':\n",
    "    wm_fn = DESIFileName()\n",
    "    wm_fn.set_default_config(version=version, ftype='wmatrix_smooth', tracer=tracer, region=region, completeness=completeness, realization='merged', baseline=False, weighting='_default_FKP_lin', nran=18, cellsize=6, boxsize=9000)\n",
    "    koutrebin = 5\n",
    "elif source == 'local':\n",
    "    wm_fn = LocalFileName()\n",
    "    wm_fn.set_default_config(mockgen=catalog, ftype='wmatrix_smooth', tracer=tracer, region=region, completeness=completeness, realization=None, boxsize=10000)\n",
    "    wm_fn.update(cellsize=None)\n",
    "    koutrebin = 1\n",
    "\n",
    "wm = BaseMatrix.load(wm_fn.get_path(rpcut=rpcut, thetacut=thetacut, zrange=zrange))\n",
    "\n",
    "wm.slice_x(sliceout=slice(0, len(wm.xout[0]) // koutrebin * koutrebin, koutrebin))\n",
    "wm.select_x(xoutlim=(krange[0], krange[1]))\n",
    "kinrebin = 10\n",
    "wm.slice_x(slicein=slice(0, len(wm.xin[0]) // kinrebin * kinrebin, kinrebin))\n",
    "wm.select_x(xinlim=(0.005, ktmax))"
   ]
  },
  {
   "cell_type": "code",
   "execution_count": 8,
   "id": "7ffc0a72-96f5-4eb8-a1d0-eab4b47ad53e",
   "metadata": {
    "tags": []
   },
   "outputs": [
    {
     "data": {
      "text/plain": [
       "'/global/cfs/cdirs/desi/survey/catalogs/Y1/mocks/SecondGenMocks/AbacusSummit/desipipe/v4_1/complete/2pt/merged/pk/wmatrix_smooth_ELG_LOP_SGC_z1.1-1.6_default_FKP_lin_nran18_cellsize6_boxsize9000_thetacut0.05.npy'"
      ]
     },
     "execution_count": 8,
     "metadata": {},
     "output_type": "execute_result"
    }
   ],
   "source": [
    "wm_fn.get_path()"
   ]
  },
  {
   "cell_type": "markdown",
   "id": "e5da3409-e44b-4917-8712-d0c23f8287e7",
   "metadata": {},
   "source": [
    "### Theory from fitted $P_{\\mathrm{cubic}}(k)$"
   ]
  },
  {
   "cell_type": "code",
   "execution_count": 9,
   "id": "a50f7804-1703-4f1d-97bb-b306b9d2eb92",
   "metadata": {
    "tags": []
   },
   "outputs": [
    {
     "name": "stderr",
     "output_type": "stream",
     "text": [
      "/global/common/software/desi/users/adematti/perlmutter/cosmodesiconda/20240118-1.0.0/code/cosmoprimo/main/lib/python3.10/site-packages/cosmoprimo/eisenstein_hu.py:23: UserWarning: EisensteinHuNoWiggleEngine cannot cope with massive neutrinos\n",
      "  warnings.warn('{} cannot cope with massive neutrinos'.format(self.__class__.__name__))\n"
     ]
    }
   ],
   "source": [
    "from emulator_fit import get_fit_setup, get_template\n",
    "from desilike.theories.galaxy_clustering import LPTVelocileptorsTracerPowerSpectrumMultipoles\n",
    "\n",
    "template = get_template(template_name=template_name, z=z)\n",
    "\n",
    "theory = LPTVelocileptorsTracerPowerSpectrumMultipoles(template=template, ells=ells, k=wm.xin[0])\n",
    "pk_theory = theory(**profile_cubic.bestfit.choice(input=True))"
   ]
  },
  {
   "cell_type": "markdown",
   "id": "d5ad32f8-2c32-44b1-986b-efe89d29e0ff",
   "metadata": {},
   "source": [
    "### Check cubic fit"
   ]
  },
  {
   "cell_type": "code",
   "execution_count": 10,
   "id": "30b6cdc1-1d33-4a4e-b1e8-c1dc8d13fba7",
   "metadata": {
    "tags": []
   },
   "outputs": [
    {
     "data": {
      "image/png": "[encoded data removed]",
      "text/plain": [
       "<Figure size 1000x300 with 3 Axes>"
      ]
     },
     "metadata": {},
     "output_type": "display_data"
    }
   ],
   "source": [
    "fig, axes = plt.subplots(1, 3, figsize=(10, 3), sharey=False)\n",
    "\n",
    "for ill, ell in enumerate(ells):\n",
    "    axes[ill].plot(cubic_pk['k'][ill], cubic_pk['k'][ill] * cubic_pk['data'][ill], color='C{}'.format(ill), marker='d', markersize=1, ls='', label=r'$P_{\\mathrm{cubic}}(k)$')\n",
    "    axes[ill].plot(wm.xin[ill], wm.xin[ill] * pk_theory[ill], color='C{}'.format(ill), ls='-', label=r'fit')\n",
    "    axes[ill].set_title(r'$\\ell={}$'.format(ell))\n",
    "    axes[ill].set_xlabel(r'$k$ [$h$/Mpc]')\n",
    "    axes[ill].set_xlim((0, 0.5))\n",
    "    \n",
    "axes[0].set_ylabel(r'$k P(k)$ [$(\\mathrm{Mpc}/h)^{2}$]')\n",
    "axes[0].legend()\n",
    "plt.show()"
   ]
  },
  {
   "cell_type": "markdown",
   "id": "9372cf2c-d371-4624-a3be-60e063396b45",
   "metadata": {},
   "source": [
    "### $W(k, k^{\\prime}) \\times P_{\\mathrm{theory}}(k^{\\prime})$"
   ]
  },
  {
   "cell_type": "code",
   "execution_count": 11,
   "id": "eed0370b",
   "metadata": {},
   "outputs": [],
   "source": [
    "wm_pk = (wm.value.T.dot(pk_theory.flatten())).reshape((len(ells), wm.shape[1]//len(ells)))"
   ]
  },
  {
   "cell_type": "markdown",
   "id": "84de6faa-3434-45c6-a2b4-3b93748940ca",
   "metadata": {
    "tags": []
   },
   "source": [
    "## $P_{\\mathrm{cutsky}}(k)$"
   ]
  },
  {
   "cell_type": "code",
   "execution_count": 12,
   "id": "8f0be6f1-d214-42cd-8c1c-06c82a6b60ac",
   "metadata": {
    "tags": []
   },
   "outputs": [],
   "source": [
    "if source == 'desi':\n",
    "    fn = DESIFileName()\n",
    "    fn.set_default_config(version=version, tracer=tracer, region=region, completeness=completeness, baseline=False, weighting='_default_FKP_lin', nran=18, cellsize=6, boxsize=9000)\n",
    "elif source == 'local':\n",
    "    fn = LocalFileName()\n",
    "    fn.set_default_config(mockgen=catalog, tracer=tracer, region=region, completeness=completeness)\n",
    "    fn.update(cellsize=6)\n",
    "    \n",
    "cutsky_pk = load_poles_list([fn.get_path(realization=imock, rpcut=rpcut, thetacut=thetacut, zrange=zrange) for imock in range(25)], xlim={ell: krange for ell in ells})"
   ]
  },
  {
   "cell_type": "code",
   "execution_count": 13,
   "id": "965682cd-2185-494a-9b4e-b92cc6c5f668",
   "metadata": {
    "tags": []
   },
   "outputs": [
    {
     "data": {
      "text/plain": [
       "'/global/cfs/cdirs/desi/survey/catalogs/Y1/mocks/SecondGenMocks/AbacusSummit/desipipe/v4_1/complete/2pt/mock24/pk/pkpoles_ELG_LOP_SGC_z1.1-1.6_default_FKP_lin_nran18_cellsize6_boxsize9000_thetacut0.05.npy'"
      ]
     },
     "execution_count": 13,
     "metadata": {},
     "output_type": "execute_result"
    }
   ],
   "source": [
    "fn.get_path()"
   ]
  },
  {
   "cell_type": "markdown",
   "id": "ed4adcbd-2f20-4dd2-ad2e-6c8dbd633da3",
   "metadata": {},
   "source": [
    "### Model fitted on $P_{\\mathrm{cutsky}}(k)$"
   ]
  },
  {
   "cell_type": "code",
   "execution_count": 14,
   "id": "f8f250bc-f85f-4764-85de-8584ef6693c1",
   "metadata": {},
   "outputs": [],
   "source": [
    "#data_dir = '/global/cfs/cdirs/desi/users/mpinon/secondGenMocksY1/'\n",
    "\n",
    "#template_name = 'shapefitqisoqap'\n",
    "\n",
    "#if rpcut:\n",
    "#    cutflag = '_rpcut{:.1f}'.format(rpcut)\n",
    "#elif thetacut:\n",
    "#    cutflag = '_thetacut{:.2f}'.format(thetacut)\n",
    "#else:\n",
    "#    cutflag = ''\n",
    "\n",
    "#emulator_dir = os.path.join(data_dir, 'emulators/emulators_{}_ELG_LOP'.format(template_name))\n",
    "#profiles_dir = os.path.join(data_dir, 'profiles/Y1secondgenmocks/profiles_{}_ELG_LOP_complete_SGC'.format(template_name))\n",
    "#profile_cutsky = Profiles.load(os.path.join(profiles_dir, 'power_velocileptors{}{}.npy'.format(cutflag, '_directedges' if cutflag else '')))"
   ]
  },
  {
   "cell_type": "code",
   "execution_count": 15,
   "id": "2a41eda6-6adf-4b7b-8d35-20dc2116e903",
   "metadata": {
    "tags": []
   },
   "outputs": [],
   "source": [
    "#from emulator_fit import get_power_likelihood\n",
    "\n",
    "#likelihood = get_power_likelihood(source=source, catalog='second', tracer='ELG_LOP', region='SGC', completeness=True, solve=False, rp_cut=rpcut, theta_cut=thetacut, emulator_fn=os.path.join(emulator_dir.format('complete_'), 'power_{{}}.npy'))\n",
    "\n",
    "#likelihood.solved_default = '.best'\n",
    "#likelihood(**profile_cutsky.bestfit.choice(input=True))\n",
    "#cutsky_obs = likelihood.observables[0]\n",
    "#pk_obs = cutsky_obs.theory"
   ]
  },
  {
   "cell_type": "markdown",
   "id": "b3463d8f-3435-4a1c-aa14-241a1673198f",
   "metadata": {},
   "source": [
    "### Y1 covariance"
   ]
  },
  {
   "cell_type": "code",
   "execution_count": 16,
   "id": "6fa75e90-32a8-484b-a401-fce27aa0428a",
   "metadata": {
    "tags": []
   },
   "outputs": [],
   "source": [
    "from cov_utils import truncate_cov\n",
    "#cov_fn = '/global/cfs/cdirs/desi/users/mpinon/Y1/cov/cov_gaussian_pre_ELG_LOPnotqso_{}_{:.1f}_{:.1f}_default_FKP_lin.txt'.format(region, zrange[0], zrange[1])\n",
    "#cov = np.loadtxt(cov_fn)\n",
    "#cov = truncate_cov(cov, kinit=np.arange(0., 0.4, 0.005), kfinal=np.arange(*krange))\n",
    "cov_fn = '/global/cfs/cdirs/desi/users/mpinon/Y1/cov/pk/cov_EZmocks_{}_ffa_{}_z{:.3f}-{:.3f}_k{:.2f}-{:.2f}.npy'.format('ELG_LOP', region, zrange[0], zrange[1], krange[0], krange[1])\n",
    "cov = np.load(cov_fn)\n",
    "\n",
    "stdY1 = np.sqrt(np.diag(cov)).reshape((3, len(cov[0])//3))"
   ]
  },
  {
   "cell_type": "code",
   "execution_count": 17,
   "id": "2bdb470f",
   "metadata": {},
   "outputs": [],
   "source": [
    "new_krange = np.arange(0, 0.4, 0.005)\n",
    "#masknew = np.logical_and(new_krange >= 0.02, new_krange < 0.2)\n",
    "masknew = np.logical_and(new_krange >= krange[0], new_krange < krange[1])"
   ]
  },
  {
   "cell_type": "code",
   "execution_count": 18,
   "id": "6a0c6ece-6c28-45f7-89ec-d72d4fbe8848",
   "metadata": {
    "tags": []
   },
   "outputs": [
    {
     "data": {
      "text/plain": [
       "36"
      ]
     },
     "execution_count": 18,
     "metadata": {},
     "output_type": "execute_result"
    }
   ],
   "source": [
    "len(stdY1[0])"
   ]
  },
  {
   "cell_type": "code",
   "execution_count": 19,
   "id": "a2b82e32-4889-44ec-9f6f-cfef63bec059",
   "metadata": {
    "tags": []
   },
   "outputs": [],
   "source": [
    "#precmatrix = np.linalg.inv(cov)\n",
    "#deriv = wm.value\n",
    "#derivp = deriv.dot(precmatrix)\n",
    "#fisher = derivp.dot(deriv.T)\n",
    "#shotnoise = np.zeros_like(cutsky_pk['data'].flatten())\n",
    "#shotnoise[:len(cutsky_pk['data'][0])] = np.full_like(cutsky_pk['data'][0], cutsky_pk['shotnoise'])\n",
    "#shotnoise_value = np.linalg.solve(fisher, derivp.dot(cutsky_pk['data'].flatten() + shotnoise - wm_pk.flatten()))\n",
    "#pk_theory_shotnoise = wm_pk.flatten() + shotnoise_value.dot(deriv) - shotnoise\n",
    "#wm_pk_shotnoise = pk_theory_shotnoise.reshape((len(ells), wm.shape[1]//len(ells)))"
   ]
  },
  {
   "cell_type": "code",
   "execution_count": 20,
   "id": "44ab4b57-2535-4e35-8541-188b3510a59b",
   "metadata": {
    "tags": []
   },
   "outputs": [
    {
     "name": "stdout",
     "output_type": "stream",
     "text": [
      "  message: Optimization terminated successfully.\n",
      "  success: True\n",
      "   status: 0\n",
      "      fun: 1.5852851185775956\n",
      "        x: [ 2.310e+03]\n",
      "      nit: 4\n",
      "      jac: [-7.451e-07]\n",
      " hess_inv: [[ 7.693e+02]]\n",
      "     nfev: 16\n",
      "     njev: 8\n"
     ]
    }
   ],
   "source": [
    "def wm_pk_shotnoise(pk_theory, shotnoise, cutsky_shotnoise=cutsky_pk['shotnoise']):\n",
    "    pk_th = np.array(pk_theory.copy())\n",
    "    pk_th[0] += np.full_like(pk_th[0], shotnoise)\n",
    "    wm_pk_shotnoise = (wm.value.T.dot(pk_th.flatten())).reshape((len(ells), wm.shape[1]//len(ells)))\n",
    "    wm_pk_shotnoise[0] -= cutsky_shotnoise\n",
    "    return wm_pk_shotnoise\n",
    "\n",
    "def chi2(shotnoise):\n",
    "    precmatrix = np.linalg.inv(cov)\n",
    "    r = (wm_pk_shotnoise(pk_theory, shotnoise) - cutsky_pk['data']).flatten()\n",
    "    res = r.T.dot(precmatrix.dot(r))\n",
    "    return res\n",
    "\n",
    "from scipy.optimize import minimize\n",
    "\n",
    "minimizer = minimize(chi2, x0=cutsky_pk['shotnoise'])\n",
    "print(minimizer)\n",
    "shotnoise = minimizer.x[0]"
   ]
  },
  {
   "cell_type": "code",
   "execution_count": 23,
   "id": "73a57138-a724-49b8-a057-415a6d920a64",
   "metadata": {
    "tags": []
   },
   "outputs": [],
   "source": [
    "plt.rcParams[\"figure.autolayout\"] = False"
   ]
  },
  {
   "cell_type": "code",
   "execution_count": 33,
   "id": "0dee13fa-4f58-4b8b-a35e-947d89854efe",
   "metadata": {
    "tags": []
   },
   "outputs": [
    {
     "data": {
      "image/png": "[encoded data removed]",
      "text/plain": [
       "<Figure size 800x300 with 6 Axes>"
      ]
     },
     "metadata": {},
     "output_type": "display_data"
    }
   ],
   "source": [
    "fig, axes = plt.subplots(2, 3, figsize=(8, 3), sharey=False, sharex=True, gridspec_kw={'height_ratios': [4, 2]})\n",
    "\n",
    "for ill, ell in enumerate(ells):\n",
    "    axes[0][ill].errorbar(cutsky_pk['k'][ill], cutsky_pk['k'][ill] * cutsky_pk['data'][ill], cutsky_pk['k'][ill]*stdY1[ill]/5., color='C0', marker='.', ls='', label=r'$P_{\\mathrm{o}}(k)$')\n",
    "    #axes[0][ill].plot(cutsky_obs.k[ill], cutsky_obs.k[ill] * cutsky_obs.theory[ill], color='C{:d}'.format(ill), linestyle='--', label=r'$P_{\\mathrm{cutsky}}(k)$ fit')\n",
    "    axes[0][ill].plot(wm.xout[ill], wm.xout[ill] * wm_pk[ill], color='C0', ls='--', label=r'$W(k, k^{\\prime}) P_{\\mathrm{t}}(k^{\\prime})$')\n",
    "    axes[0][ill].plot(wm.xout[ill], wm.xout[ill] * wm_pk_shotnoise(pk_theory, shotnoise)[ill], color='C0', ls='-', label=r'$W(k, k^{\\prime}) (P_{\\mathrm{t}}(k^{\\prime}) + N)$')\n",
    "    axes[0][ill].set_title(r'$\\ell={}$'.format(ell))\n",
    "    #axes[0][ill].set_ylim(ymin=0)\n",
    "    \n",
    "    #axes[1][ill].plot(wm.xout[ill], (wm_pk[ill] - cutsky_pk['data'][ill])/(stdY1[ill]/5.), color='C0', ls='--')\n",
    "    axes[1][ill].plot(wm.xout[ill], (wm_pk_shotnoise(pk_theory, shotnoise)[ill] - cutsky_pk['data'][ill])/(stdY1[ill]/5.), color='C0', ls='-')\n",
    "    #axes[1][ill].plot(wm.xout[ill], (wm_pk[ill] - cutsky_obs.theory[ill])/stdY1[ill], color='C0', linestyle='--')\n",
    "    axes[1][ill].set_xlabel(r'$k$ [$h$/Mpc]')\n",
    "    axes[1][ill].set_ylim((-1.5, 1.5))\n",
    "\n",
    "axes[0][2].set_ylim(ymax=200)\n",
    "axes[0][0].set_ylabel(r'$k P(k)$ [$(\\mathrm{Mpc}/h)^{2}$]')\n",
    "axes[1][0].set_ylabel(r'$\\Delta P(k) / \\sigma$')\n",
    "axes[0][2].legend(loc='upper center')\n",
    "fig.align_ylabels()\n",
    "plt.tight_layout()\n",
    "plt.subplots_adjust(wspace=0.2, hspace=0.1)\n",
    "plt.savefig(os.path.join(plots_dir, version, cubicsource, 'window_validation_{}mocks{}_{}cut{:.2f}_{}_{}_z{:.2f}-{:.2f}_ktmax{}.pdf'.format(len(imocks), '_ffa' if completeness=='ffa' else '_complete' if completeness else '_altmtl', 'rp' if rpcut else 'theta', max(rpcut, thetacut), tracer, region, zrange[0], zrange[1], ktmax)), dpi=200)\n",
    "plt.show()"
   ]
  }
 ],
 "metadata": {
  "kernelspec": {
   "display_name": "cosmodesi-main",
   "language": "python",
   "name": "cosmodesi-main"
  },
  "language_info": {
   "codemirror_mode": {
    "name": "ipython",
    "version": 3
   },
   "file_extension": ".py",
   "mimetype": "text/x-python",
   "name": "python",
   "nbconvert_exporter": "python",
   "pygments_lexer": "ipython3",
   "version": "3.10.13"
  }
 },
 "nbformat": 4,
 "nbformat_minor": 5
}
