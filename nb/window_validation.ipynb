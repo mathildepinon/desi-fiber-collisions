{
 "cells": [
  {
   "cell_type": "markdown",
   "id": "11c3bf5a-5d9a-4fec-8f7b-6ebf7a4d9c70",
   "metadata": {},
   "source": [
    "# Compare $W(k, k^{\\prime}) \\times P_{\\mathrm{cubic}}(k^{\\prime})$ and $P_{\\mathrm{cutsky}}(k)$ to validate window computation"
   ]
  },
  {
   "cell_type": "code",
   "execution_count": 1,
   "id": "177a7f59-b651-4dfb-89e2-e4e7b98718ba",
   "metadata": {
    "tags": []
   },
   "outputs": [],
   "source": [
    "import os\n",
    "import sys\n",
    "\n",
    "import numpy as np\n",
    "from matplotlib import pyplot as plt\n",
    "\n",
    "from desilike.samples import Profiles\n",
    "\n",
    "sys.path.append('../bin')\n",
    "from utils import load_poles, load_poles_list\n",
    "from desi_file_manager import DESIFileName\n",
    "from local_file_manager import LocalFileName\n",
    "\n",
    "# plotting\n",
    "plt.style.use(os.path.join(os.path.abspath('../bin'), 'plot_style.mplstyle'))\n",
    "plots_dir = '../../plots/'"
   ]
  },
  {
   "cell_type": "markdown",
   "id": "c97b3b62-ad6e-4cee-8b62-5eb0034a8607",
   "metadata": {},
   "source": [
    "### Global parameters"
   ]
  },
  {
   "cell_type": "code",
   "execution_count": 2,
   "id": "74dad4d3-531a-44a5-9c3b-7ca94bf8b53c",
   "metadata": {
    "tags": []
   },
   "outputs": [],
   "source": [
    "# official desi ('desi') or locally ('local') generated window/pk\n",
    "source = 'desi'\n",
    "\n",
    "# mocks/version\n",
    "catalog = 'second'\n",
    "version = 'v3'\n",
    "imocks = range(25)\n",
    "\n",
    "# tracer\n",
    "tracer = 'ELG_LOP'\n",
    "region = 'SGC'\n",
    "completeness = True\n",
    "zrange = (1.1, 1.6)\n",
    "\n",
    "# multipoles\n",
    "ells = (0, 2, 4)\n",
    "ktmax = 0.5\n",
    "krange = (0.02, 0.2, 0.005)\n",
    "\n",
    "# cut\n",
    "rpcut = 0.\n",
    "thetacut = 0."
   ]
  },
  {
   "cell_type": "markdown",
   "id": "48171e4e-5b14-4e0b-bf7c-fc01d4a1344b",
   "metadata": {},
   "source": [
    "## $P_{\\mathrm{cubic}}(k)$"
   ]
  },
  {
   "cell_type": "code",
   "execution_count": 3,
   "id": "1e3bf381-26f8-415a-8aa2-f26956cb8f24",
   "metadata": {
    "tags": []
   },
   "outputs": [],
   "source": [
    "fn = LocalFileName()\n",
    "fn.set_default_config(mockgen='cubic', tracer=tracer)\n",
    "cubic_pk = load_poles_list([fn.get_path(realization=imock, los=los) for los in ('xyz') for imock in range(25)])"
   ]
  },
  {
   "cell_type": "markdown",
   "id": "0b922683-383d-418b-bf5a-b1eb34b5f447",
   "metadata": {},
   "source": [
    "### Model fitted on $P_{\\mathrm{cubic}}(k)$"
   ]
  },
  {
   "cell_type": "code",
   "execution_count": 4,
   "id": "71ab46f1-5ea8-4a3e-91c8-29663f36bcad",
   "metadata": {},
   "outputs": [],
   "source": [
    "data_dir = '/global/cfs/cdirs/desi/users/mpinon/cubicSecondGenMocks/'\n",
    "\n",
    "template_name = 'shapefitqisoqap'\n",
    "\n",
    "emulator_dir = os.path.join(data_dir, 'emulators/test/emulators_{}_ELG'.format(template_name))\n",
    "profiles_dir = os.path.join(data_dir, 'profiles/cubicsecondgenmocks/profiles_{}_ELG_complete'.format(template_name))\n",
    "profile_cubic = Profiles.load(os.path.join(profiles_dir, 'power_velocileptors.npy'))"
   ]
  },
  {
   "cell_type": "code",
   "execution_count": 5,
   "id": "cb7b1a45-9d69-4a85-b018-a381cac8e98e",
   "metadata": {
    "tags": []
   },
   "outputs": [],
   "source": [
    "#likelihood = get_power_likelihood(data_type=data_type, tracer=tracer, region=region, completeness='complete_', solve=False, fc='', rp_cut=rp_cut, emulator_fn=os.path.join(emulator_dir.format('complete_'), '{}_{{}}.npy'.format(stat)))\n",
    "\n",
    "#likelihood.solved_default = '.best'\n",
    "#likelihood(**profile_cubic.bestfit.choice(input=True))\n",
    "#box_obs = likelihood.observables[0]\n",
    "#box_theory = box_obs.theory"
   ]
  },
  {
   "cell_type": "markdown",
   "id": "533180ff-95a2-4ed9-954d-70437e036cbc",
   "metadata": {},
   "source": [
    "## Window matrix $W(k, k^{\\prime})$"
   ]
  },
  {
   "cell_type": "code",
   "execution_count": 6,
   "id": "eae25b1c-6948-40c6-a93d-86f949b1a991",
   "metadata": {
    "tags": []
   },
   "outputs": [
    {
     "data": {
      "text/plain": [
       "<pypower.wide_angle.BaseMatrix at 0x7efcb4229ea0>"
      ]
     },
     "execution_count": 6,
     "metadata": {},
     "output_type": "execute_result"
    }
   ],
   "source": [
    "from pypower import BaseMatrix\n",
    "\n",
    "if source == 'desi':\n",
    "    wm_fn = DESIFileName()\n",
    "    wm_fn.set_default_config(version=version, ftype='wmatrix_smooth', tracer=tracer, region=region, completeness=completeness, realization='merged')\n",
    "    koutrebin = 5\n",
    "elif source == 'local':\n",
    "    wm_fn = LocalFileName()\n",
    "    wm_fn.set_default_config(mockgen=catalog, ftype='wmatrix_smooth', tracer=tracer, region=region, completeness=completeness, realization=None, boxsize=10000)\n",
    "    wm_fn.update(cellsize=None)\n",
    "    koutrebin = 1\n",
    "\n",
    "wm = BaseMatrix.load(wm_fn.get_path(rpcut=rpcut, thetacut=thetacut, zrange=zrange))\n",
    "\n",
    "wm.slice_x(sliceout=slice(0, len(wm.xout[0]) // koutrebin * koutrebin, koutrebin))\n",
    "wm.select_x(xoutlim=(krange[0], krange[1]))\n",
    "kinrebin = 10\n",
    "wm.slice_x(slicein=slice(0, len(wm.xin[0]) // kinrebin * kinrebin, kinrebin))\n",
    "wm.select_x(xinlim=(0.005, ktmax))"
   ]
  },
  {
   "cell_type": "code",
   "execution_count": 7,
   "id": "7ffc0a72-96f5-4eb8-a1d0-eab4b47ad53e",
   "metadata": {
    "tags": []
   },
   "outputs": [
    {
     "data": {
      "text/plain": [
       "'/global/cfs/cdirs/desi/survey/catalogs/Y1/mocks/SecondGenMocks/AbacusSummit/desipipe/v3/complete/baseline_2pt/merged/pk/wmatrix_smooth_ELG_LOP_SGC_z1.1-1.6.npy'"
      ]
     },
     "execution_count": 7,
     "metadata": {},
     "output_type": "execute_result"
    }
   ],
   "source": [
    "wm_fn.get_path()"
   ]
  },
  {
   "cell_type": "markdown",
   "id": "e5da3409-e44b-4917-8712-d0c23f8287e7",
   "metadata": {},
   "source": [
    "### Theory from fitted $P_{\\mathrm{cubic}}(k)$"
   ]
  },
  {
   "cell_type": "code",
   "execution_count": 8,
   "id": "a50f7804-1703-4f1d-97bb-b306b9d2eb92",
   "metadata": {
    "tags": []
   },
   "outputs": [
    {
     "name": "stderr",
     "output_type": "stream",
     "text": [
      "/global/common/software/desi/users/adematti/perlmutter/cosmodesiconda/20231013-1.0.0/code/cosmoprimo/main/lib/python3.10/site-packages/cosmoprimo/eisenstein_hu.py:23: UserWarning: EisensteinHuNoWiggleEngine cannot cope with massive neutrinos\n",
      "  warnings.warn('{} cannot cope with massive neutrinos'.format(self.__class__.__name__))\n"
     ]
    }
   ],
   "source": [
    "from emulator_fit import get_fit_setup, get_template\n",
    "from desilike.theories.galaxy_clustering import LPTVelocileptorsTracerPowerSpectrumMultipoles\n",
    "\n",
    "z, b0, klim, slim = get_fit_setup(tracer=tracer, theory_name='velocileptors')\n",
    "for lim in klim.values():\n",
    "    lim = krange\n",
    "from cosmoprimo.fiducial import DESI\n",
    "fiducial = DESI()\n",
    "b1E = b0 / fiducial.growth_factor(z)\n",
    "\n",
    "template = get_template(template_name=template_name, z=z)\n",
    "\n",
    "theory = LPTVelocileptorsTracerPowerSpectrumMultipoles(template=template, ells=klim.keys(), k=wm.xin[0])\n",
    "pk_theory = theory(**profile_cubic.bestfit.choice(input=True))"
   ]
  },
  {
   "cell_type": "markdown",
   "id": "9372cf2c-d371-4624-a3be-60e063396b45",
   "metadata": {},
   "source": [
    "### $W(k, k^{\\prime}) \\times P_{\\mathrm{theory}}(k^{\\prime})$"
   ]
  },
  {
   "cell_type": "code",
   "execution_count": 9,
   "id": "eed0370b",
   "metadata": {},
   "outputs": [],
   "source": [
    "wm_pk = (wm.value.T.dot(pk_theory.flatten())).reshape((len(ells), wm.shape[1]//len(ells)))"
   ]
  },
  {
   "cell_type": "markdown",
   "id": "84de6faa-3434-45c6-a2b4-3b93748940ca",
   "metadata": {
    "tags": []
   },
   "source": [
    "## $P_{\\mathrm{cutsky}}(k)$"
   ]
  },
  {
   "cell_type": "code",
   "execution_count": 10,
   "id": "8f0be6f1-d214-42cd-8c1c-06c82a6b60ac",
   "metadata": {
    "tags": []
   },
   "outputs": [],
   "source": [
    "if source == 'desi':\n",
    "    fn = DESIFileName()\n",
    "    fn.set_default_config(version=version, tracer=tracer, region=region, completeness=completeness)\n",
    "elif source == 'local':\n",
    "    fn = LocalFileName()\n",
    "    fn.set_default_config(mockgen=catalog, tracer=tracer, region=region, completeness=completeness)\n",
    "    fn.update(cellsize=6)\n",
    "    \n",
    "cutsky_pk = load_poles_list([fn.get_path(realization=imock, rpcut=rpcut, thetacut=thetacut, zrange=zrange) for imock in range(25)], xlim={ell: krange for ell in ells})"
   ]
  },
  {
   "cell_type": "code",
   "execution_count": 11,
   "id": "965682cd-2185-494a-9b4e-b92cc6c5f668",
   "metadata": {
    "tags": []
   },
   "outputs": [
    {
     "data": {
      "text/plain": [
       "'/global/cfs/cdirs/desi/survey/catalogs/Y1/mocks/SecondGenMocks/AbacusSummit/desipipe/v3/complete/baseline_2pt/mock24/pk/pkpoles_ELG_LOP_SGC_z1.1-1.6.npy'"
      ]
     },
     "execution_count": 11,
     "metadata": {},
     "output_type": "execute_result"
    }
   ],
   "source": [
    "fn.get_path()"
   ]
  },
  {
   "cell_type": "markdown",
   "id": "ed4adcbd-2f20-4dd2-ad2e-6c8dbd633da3",
   "metadata": {},
   "source": [
    "### Model fitted on $P_{\\mathrm{cutsky}}(k)$"
   ]
  },
  {
   "cell_type": "code",
   "execution_count": 12,
   "id": "f8f250bc-f85f-4764-85de-8584ef6693c1",
   "metadata": {},
   "outputs": [],
   "source": [
    "#data_dir = '/global/cfs/cdirs/desi/users/mpinon/secondGenMocksY1/'\n",
    "\n",
    "#template_name = 'shapefitqisoqap'\n",
    "\n",
    "#if rpcut:\n",
    "#    cutflag = '_rpcut{:.1f}'.format(rpcut)\n",
    "#elif thetacut:\n",
    "#    cutflag = '_thetacut{:.2f}'.format(thetacut)\n",
    "#else:\n",
    "#    cutflag = ''\n",
    "\n",
    "#emulator_dir = os.path.join(data_dir, 'emulators/emulators_{}_ELG_LOP'.format(template_name))\n",
    "#profiles_dir = os.path.join(data_dir, 'profiles/Y1secondgenmocks/profiles_{}_ELG_LOP_complete_SGC'.format(template_name))\n",
    "#profile_cutsky = Profiles.load(os.path.join(profiles_dir, 'power_velocileptors{}{}.npy'.format(cutflag, '_directedges' if cutflag else '')))"
   ]
  },
  {
   "cell_type": "code",
   "execution_count": 13,
   "id": "2a41eda6-6adf-4b7b-8d35-20dc2116e903",
   "metadata": {
    "tags": []
   },
   "outputs": [],
   "source": [
    "#from emulator_fit import get_power_likelihood\n",
    "\n",
    "#likelihood = get_power_likelihood(source=source, catalog='second', tracer='ELG_LOP', region='SGC', completeness=True, solve=False, rp_cut=rpcut, theta_cut=thetacut, emulator_fn=os.path.join(emulator_dir.format('complete_'), 'power_{{}}.npy'))\n",
    "\n",
    "#likelihood.solved_default = '.best'\n",
    "#likelihood(**profile_cutsky.bestfit.choice(input=True))\n",
    "#cutsky_obs = likelihood.observables[0]\n",
    "#pk_obs = cutsky_obs.theory"
   ]
  },
  {
   "cell_type": "markdown",
   "id": "b3463d8f-3435-4a1c-aa14-241a1673198f",
   "metadata": {},
   "source": [
    "### Y1 covariance"
   ]
  },
  {
   "cell_type": "code",
   "execution_count": 14,
   "id": "6fa75e90-32a8-484b-a401-fce27aa0428a",
   "metadata": {
    "tags": []
   },
   "outputs": [],
   "source": [
    "from cov_utils import truncate_cov\n",
    "covdir = '/global/cfs/cdirs/desi/survey/catalogs/Y1/LSS/iron/LSScats/v0.6/blinded/pk/covariances/v0.1.5'\n",
    "c1 = np.loadtxt(os.path.join(covdir, 'cov_gaussian_prerec_ELG_LOPnotqso_GCcomb_0.8_1.1.txt'))\n",
    "c2 = np.loadtxt(os.path.join(covdir, 'cov_gaussian_prerec_ELG_LOPnotqso_GCcomb_1.1_1.6.txt'))\n",
    "c1_trunc = truncate_cov(c1, kinit=np.arange(0., 0.4, 0.005), kfinal=np.arange(*krange))\n",
    "c2_trunc = truncate_cov(c2, kinit=np.arange(0., 0.4, 0.005), kfinal=np.arange(*krange))\n",
    "cov = np.linalg.inv(np.linalg.inv(c1_trunc) + np.linalg.inv(c2_trunc))\n",
    " \n",
    "#from scipy.interpolate import interp1d\n",
    "#stdY1 = interp1d(np.array((np.arange(0, 0.4, 0.005), )*3).flatten(), np.sqrt(np.diag(cov)), bounds_error=False)(cutsky_obs.k)\n",
    "stdY1 = np.sqrt(np.diag(cov)).reshape((3, len(cov[0])//3))"
   ]
  },
  {
   "cell_type": "code",
   "execution_count": 15,
   "id": "2bdb470f",
   "metadata": {},
   "outputs": [],
   "source": [
    "new_krange = np.arange(0, 0.4, 0.005)\n",
    "#masknew = np.logical_and(new_krange >= 0.02, new_krange < 0.2)\n",
    "masknew = np.logical_and(new_krange >= krange[0], new_krange < krange[1])"
   ]
  },
  {
   "cell_type": "code",
   "execution_count": 16,
   "id": "6a0c6ece-6c28-45f7-89ec-d72d4fbe8848",
   "metadata": {
    "tags": []
   },
   "outputs": [
    {
     "data": {
      "text/plain": [
       "36"
      ]
     },
     "execution_count": 16,
     "metadata": {},
     "output_type": "execute_result"
    }
   ],
   "source": [
    "len(stdY1[0])"
   ]
  },
  {
   "cell_type": "code",
   "execution_count": 17,
   "id": "0dee13fa-4f58-4b8b-a35e-947d89854efe",
   "metadata": {
    "tags": []
   },
   "outputs": [
    {
     "data": {
      "image/png": "[encoded data removed]",
      "text/plain": [
       "<Figure size 1000x400 with 6 Axes>"
      ]
     },
     "metadata": {},
     "output_type": "display_data"
    }
   ],
   "source": [
    "fig, axes = plt.subplots(2, 3, figsize=(10, 4), sharey=False, sharex=True, gridspec_kw={'height_ratios': [4, 2]})\n",
    "\n",
    "for ill, ell in enumerate(ells):\n",
    "    axes[0][ill].errorbar(cutsky_pk['k'][ill], cutsky_pk['k'][ill] * cutsky_pk['data'][ill], cutsky_pk['k'][ill]*stdY1[ill]/5, color='C{}'.format(ill), marker='.', ls='', label=r'$P_{\\mathrm{obs}}(k)$')\n",
    "    #axes[0][ill].plot(cutsky_obs.k[ill], cutsky_obs.k[ill] * cutsky_obs.theory[ill], color='C{:d}'.format(ill), linestyle='--', label=r'$P_{\\mathrm{cutsky}}(k)$ fit')\n",
    "    axes[0][ill].plot(wm.xout[ill], wm.xout[ill] * wm_pk[ill], color='C{}'.format(ill), label=r'$W(k, k^{\\prime}) P_{\\mathrm{th}}(k^{\\prime})$')\n",
    "    axes[0][ill].set_title(r'$\\ell={}$'.format(ell))\n",
    "    \n",
    "    axes[1][ill].plot(wm.xout[ill], (wm_pk[ill] - cutsky_pk['data'][ill])/stdY1[ill], color='C{}'.format(ill))\n",
    "    #axes[1][ill].plot(wm.xout[ill], (wm_pk[ill] - cutsky_obs.theory[ill])/stdY1[ill], color='C{:d}'.format(ill), linestyle='--')\n",
    "    axes[1][ill].set_xlabel(r'$k$ [$h$/Mpc]')\n",
    "    \n",
    "axes[0][0].set_ylabel(r'$k P(k)$ [$(\\mathrm{Mpc}/h)^{2}$]')\n",
    "axes[1][0].set_ylabel(r'$\\Delta P(k) / \\sigma$')\n",
    "axes[0][0].legend()\n",
    "fig.align_ylabels()\n",
    "plt.savefig(os.path.join(plots_dir, version, 'window_validation_{}mocks{}_{}cut{:.2f}_{}_{}_ktmax{}.pdf'.format(len(imocks), '_complete' if completeness else '_fa', 'rp' if rpcut else 'theta', max(rpcut, thetacut), tracer, region, ktmax)), dpi=200)\n",
    "plt.show()"
   ]
  },
  {
   "cell_type": "markdown",
   "id": "11c16d6d-b66c-4c44-b3da-aba1ff533f2f",
   "metadata": {},
   "source": [
    "### compare v1 and v3"
   ]
  },
  {
   "cell_type": "code",
   "execution_count": 18,
   "id": "124d1894-1a2a-470e-b8e2-23dc6fb2859d",
   "metadata": {
    "tags": []
   },
   "outputs": [
    {
     "ename": "FileNotFoundError",
     "evalue": "No such file or directory: /global/cfs/cdirs/desi/survey/catalogs/Y1/mocks/SecondGenMocks/AbacusSummit/desipipe/v3/complete/baseline_2pt/mock0/pk/pkpoles_ELG_LOP_SGC_z0.8-1.6_default_FKP.npy",
     "output_type": "error",
     "traceback": [
      "\u001b[0;31m---------------------------------------------------------------------------\u001b[0m",
      "\u001b[0;31mFileNotFoundError\u001b[0m                         Traceback (most recent call last)",
      "Cell \u001b[0;32mIn[18], line 8\u001b[0m\n\u001b[1;32m      6\u001b[0m fn \u001b[38;5;241m=\u001b[39m DESIFileName()\n\u001b[1;32m      7\u001b[0m fn\u001b[38;5;241m.\u001b[39mset_default_config(version\u001b[38;5;241m=\u001b[39mversion, tracer\u001b[38;5;241m=\u001b[39mtracer, region\u001b[38;5;241m=\u001b[39mregion, completeness\u001b[38;5;241m=\u001b[39mcompleteness, weighting\u001b[38;5;241m=\u001b[39m\u001b[38;5;124m'\u001b[39m\u001b[38;5;124m_default_FKP\u001b[39m\u001b[38;5;124m'\u001b[39m)  \n\u001b[0;32m----> 8\u001b[0m desi_pk \u001b[38;5;241m=\u001b[39m \u001b[43mload_poles_list\u001b[49m\u001b[43m(\u001b[49m\u001b[43m[\u001b[49m\u001b[43mfn\u001b[49m\u001b[38;5;241;43m.\u001b[39;49m\u001b[43mget_path\u001b[49m\u001b[43m(\u001b[49m\u001b[43mrealization\u001b[49m\u001b[38;5;241;43m=\u001b[39;49m\u001b[43mimock\u001b[49m\u001b[43m,\u001b[49m\u001b[43m \u001b[49m\u001b[43mrpcut\u001b[49m\u001b[38;5;241;43m=\u001b[39;49m\u001b[43mrpcut\u001b[49m\u001b[43m,\u001b[49m\u001b[43m \u001b[49m\u001b[43mthetacut\u001b[49m\u001b[38;5;241;43m=\u001b[39;49m\u001b[43mthetacut\u001b[49m\u001b[43m)\u001b[49m\u001b[43m \u001b[49m\u001b[38;5;28;43;01mfor\u001b[39;49;00m\u001b[43m \u001b[49m\u001b[43mimock\u001b[49m\u001b[43m \u001b[49m\u001b[38;5;129;43;01min\u001b[39;49;00m\u001b[43m \u001b[49m\u001b[38;5;28;43mrange\u001b[39;49m\u001b[43m(\u001b[49m\u001b[38;5;241;43m25\u001b[39;49m\u001b[43m)\u001b[49m\u001b[43m]\u001b[49m\u001b[43m,\u001b[49m\u001b[43m \u001b[49m\u001b[43mxlim\u001b[49m\u001b[38;5;241;43m=\u001b[39;49m\u001b[43m{\u001b[49m\u001b[43mell\u001b[49m\u001b[43m:\u001b[49m\u001b[43m \u001b[49m\u001b[43mkrange\u001b[49m\u001b[43m \u001b[49m\u001b[38;5;28;43;01mfor\u001b[39;49;00m\u001b[43m \u001b[49m\u001b[43mell\u001b[49m\u001b[43m \u001b[49m\u001b[38;5;129;43;01min\u001b[39;49;00m\u001b[43m \u001b[49m\u001b[43mells\u001b[49m\u001b[43m}\u001b[49m\u001b[43m)\u001b[49m\n",
      "File \u001b[0;32m/global/u2/m/mpinon/fiber_collisions/desi_fiber_collisions/nb/../bin/utils.py:22\u001b[0m, in \u001b[0;36mload_poles_list\u001b[0;34m(fns, xlim, rebin)\u001b[0m\n\u001b[1;32m     20\u001b[0m     poles \u001b[38;5;241m=\u001b[39m load_poles(mock)\n\u001b[1;32m     21\u001b[0m \u001b[38;5;28;01melse\u001b[39;00m:\n\u001b[0;32m---> 22\u001b[0m     \u001b[38;5;28;01mraise\u001b[39;00m \u001b[38;5;167;01mFileNotFoundError\u001b[39;00m(\u001b[38;5;124m'\u001b[39m\u001b[38;5;124mNo such file or directory: \u001b[39m\u001b[38;5;132;01m{}\u001b[39;00m\u001b[38;5;124m'\u001b[39m\u001b[38;5;241m.\u001b[39mformat(mock))\n\u001b[1;32m     23\u001b[0m mock_shotnoise \u001b[38;5;241m=\u001b[39m poles\u001b[38;5;241m.\u001b[39mshotnoise\n\u001b[1;32m     25\u001b[0m \u001b[38;5;28;01mif\u001b[39;00m xlim \u001b[38;5;129;01mis\u001b[39;00m \u001b[38;5;28;01mNone\u001b[39;00m:\n",
      "\u001b[0;31mFileNotFoundError\u001b[0m: No such file or directory: /global/cfs/cdirs/desi/survey/catalogs/Y1/mocks/SecondGenMocks/AbacusSummit/desipipe/v3/complete/baseline_2pt/mock0/pk/pkpoles_ELG_LOP_SGC_z0.8-1.6_default_FKP.npy"
     ]
    }
   ],
   "source": [
    "fn = LocalFileName()\n",
    "fn.set_default_config(mockgen=catalog, tracer=tracer, region=region, completeness=completeness)\n",
    "fn.update(cellsize=6)\n",
    "local_pk = load_poles_list([fn.get_path(realization=imock, rpcut=rpcut, thetacut=thetacut) for imock in range(25)], xlim={ell: krange for ell in ells})\n",
    "\n",
    "fn = DESIFileName()\n",
    "fn.set_default_config(version=version, tracer=tracer, region=region, completeness=completeness, weighting='_default_FKP')  \n",
    "desi_pk = load_poles_list([fn.get_path(realization=imock, rpcut=rpcut, thetacut=thetacut) for imock in range(25)], xlim={ell: krange for ell in ells})"
   ]
  },
  {
   "cell_type": "code",
   "execution_count": null,
   "id": "cf93bf9c-63b1-41e0-803e-7b4b72797db6",
   "metadata": {
    "tags": []
   },
   "outputs": [],
   "source": [
    "fig, axes = plt.subplots(1, 3, figsize=(10, 3), sharey=False, sharex=True)\n",
    "\n",
    "for ill, ell in enumerate(ells):\n",
    "    axes[ill].plot(local_pk['k'][ill], local_pk['k'][ill] * local_pk['data'][ill], color='C{}'.format(ill), ls='--', label=r'v1')\n",
    "    axes[ill].plot(desi_pk['k'][ill], desi_pk['k'][ill] * desi_pk['data'][ill], color='C{}'.format(ill), ls='-', label=r'v3')\n",
    "    axes[ill].set_title(r'$\\ell={}$'.format(ell))\n",
    "    axes[ill].set_xlabel(r'$k$ [$h$/Mpc]')\n",
    "    \n",
    "axes[0].set_ylabel(r'$k P(k)$ [$(\\mathrm{Mpc}/h)^{2}$]')\n",
    "axes[0].legend()\n",
    "plt.show()"
   ]
  }
 ],
 "metadata": {
  "kernelspec": {
   "display_name": "cosmodesi-main",
   "language": "python",
   "name": "cosmodesi-main"
  },
  "language_info": {
   "codemirror_mode": {
    "name": "ipython",
    "version": 3
   },
   "file_extension": ".py",
   "mimetype": "text/x-python",
   "name": "python",
   "nbconvert_exporter": "python",
   "pygments_lexer": "ipython3",
   "version": "3.10.12"
  }
 },
 "nbformat": 4,
 "nbformat_minor": 5
}
