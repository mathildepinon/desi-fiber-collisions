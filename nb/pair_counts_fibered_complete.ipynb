{
 "cells": [
  {
   "cell_type": "code",
   "execution_count": 23,
   "id": "da4edad8-64d3-4da3-8b4a-c4777a6f616c",
   "metadata": {},
   "outputs": [],
   "source": [
    "import os\n",
    "import sys\n",
    "\n",
    "import numpy as np\n",
    "from matplotlib import pyplot as plt\n",
    "\n",
    "from pypower import CatalogFFTPower, PowerSpectrumSmoothWindow, PowerSpectrumSmoothWindowMatrix\n",
    "from mockfactory import Catalog, utils\n",
    "import pycorr\n",
    "\n",
    "sys.path.append('../bin')\n",
    "from power_spectrum import plot_power, select_region, get_rdd, get_mean_poles, plot_comparison\n",
    "\n",
    "import os\n",
    "plt.style.use(os.path.join(os.path.abspath(''), 'plot_style.mplstyle'))\n",
    "plots_dir = '../../plots/'"
   ]
  },
  {
   "cell_type": "markdown",
   "id": "b1d5b14c-d333-4b3e-a78f-0f8e2dbd5b07",
   "metadata": {},
   "source": [
    "## Load two point counter"
   ]
  },
  {
   "cell_type": "code",
   "execution_count": 65,
   "id": "d70f52b4-2248-4644-b23d-284db6f71c5e",
   "metadata": {},
   "outputs": [],
   "source": [
    "data_dir = '/global/cfs/cdirs/desi/users/mpinon/secondGenMocksY1/ddcounts/'\n",
    "fn_fibered = 'DD_rppi_mock{:d}_ELG_LOP_ffa_SGC_0.8_1.6_smax4.npy'\n",
    "fn_complete = 'DD_rppi_mock{:d}_ELG_LOP_complete_SGC_0.8_1.6_smax4.npy'\n",
    "nmocks = 17\n",
    "\n",
    "counter_fibered = [pycorr.TwoPointCounter.load(data_dir+fn_fibered.format(i)).rebin((5, 1)) for i in range(nmocks)]\n",
    "counter_complete = [pycorr.TwoPointCounter.load(data_dir+fn_complete.format(i)).rebin((5, 1)) for i in range(nmocks)]"
   ]
  },
  {
   "cell_type": "code",
   "execution_count": 53,
   "id": "030b7736-5a2d-43d8-b558-266d68792d70",
   "metadata": {},
   "outputs": [
    {
     "data": {
      "text/plain": [
       "(639570, 4531023)"
      ]
     },
     "execution_count": 53,
     "metadata": {},
     "output_type": "execute_result"
    }
   ],
   "source": [
    "counter_fibered[0].size1, counter_complete[0].size1"
   ]
  },
  {
   "cell_type": "code",
   "execution_count": 54,
   "id": "d77fccf0-565a-4b0d-b96b-bf38e8b2bc3f",
   "metadata": {
    "tags": []
   },
   "outputs": [
    {
     "data": {
      "text/plain": [
       "(639570, 4531023)"
      ]
     },
     "execution_count": 54,
     "metadata": {},
     "output_type": "execute_result"
    }
   ],
   "source": [
    "counter_fibered[0].size2, counter_complete[0].size2"
   ]
  },
  {
   "cell_type": "code",
   "execution_count": 55,
   "id": "27744101-abd7-42a0-930e-d5a13e014816",
   "metadata": {
    "tags": []
   },
   "outputs": [
    {
     "data": {
      "text/plain": [
       "7.084483324733806"
      ]
     },
     "execution_count": 55,
     "metadata": {},
     "output_type": "execute_result"
    }
   ],
   "source": [
    "counter_complete[0].size1/counter_fibered[0].size1"
   ]
  },
  {
   "cell_type": "code",
   "execution_count": 56,
   "id": "25b38d49-3121-4375-8859-6f878fcbd3a8",
   "metadata": {},
   "outputs": [],
   "source": [
    "rp = counter_fibered[0].sepavg()"
   ]
  },
  {
   "cell_type": "code",
   "execution_count": 57,
   "id": "c37d6054-ade8-4149-92db-6737263b6e44",
   "metadata": {
    "tags": []
   },
   "outputs": [
    {
     "data": {
      "text/plain": [
       "5.048181567342721e-07"
      ]
     },
     "execution_count": 57,
     "metadata": {},
     "output_type": "execute_result"
    }
   ],
   "source": [
    "np.sum(counter_complete[0].wcounts[rp < 2.5]) / counter_complete[0].wnorm"
   ]
  },
  {
   "cell_type": "markdown",
   "id": "1afa9be2-f29e-42ee-8d57-1948496752f6",
   "metadata": {},
   "source": [
    "## Plot $DD^{fibered}/DD^{complete}$ as a function of $r_p$"
   ]
  },
  {
   "cell_type": "code",
   "execution_count": 58,
   "id": "197b46a4-4119-4965-816b-b05455db28ec",
   "metadata": {
    "tags": []
   },
   "outputs": [
    {
     "data": {
      "text/plain": [
       "array([[  51.,   57.,   55., ...,   55.,   57.,   51.],\n",
       "       [ 138.,  136.,  128., ...,  128.,  136.,  138.],\n",
       "       [ 238.,  229.,  238., ...,  238.,  229.,  238.],\n",
       "       ...,\n",
       "       [6409., 6367., 6432., ..., 6432., 6367., 6409.],\n",
       "       [6431., 6385., 6538., ..., 6538., 6385., 6431.],\n",
       "       [6457., 6639., 6591., ..., 6591., 6639., 6457.]])"
      ]
     },
     "execution_count": 58,
     "metadata": {},
     "output_type": "execute_result"
    }
   ],
   "source": [
    "counter_complete[0].wcounts"
   ]
  },
  {
   "cell_type": "code",
   "execution_count": 59,
   "id": "525d0ff9-29f3-4977-abea-9fef3487609e",
   "metadata": {
    "tags": []
   },
   "outputs": [
    {
     "data": {
      "text/plain": [
       "array(2.05301649e+13)"
      ]
     },
     "execution_count": 59,
     "metadata": {},
     "output_type": "execute_result"
    }
   ],
   "source": [
    "counter_complete[0].wnorm"
   ]
  },
  {
   "cell_type": "code",
   "execution_count": 60,
   "id": "cd5e767b-df2a-43c3-858c-42479db40028",
   "metadata": {
    "tags": []
   },
   "outputs": [
    {
     "data": {
      "text/plain": [
       "array(2.00434051e+13)"
      ]
     },
     "execution_count": 60,
     "metadata": {},
     "output_type": "execute_result"
    }
   ],
   "source": [
    "counter_fibered[0].wnorm"
   ]
  },
  {
   "cell_type": "code",
   "execution_count": 61,
   "id": "353a7f33-800e-470c-9743-d6d01734eb33",
   "metadata": {
    "tags": []
   },
   "outputs": [
    {
     "data": {
      "text/plain": [
       "0.9978344456640281"
      ]
     },
     "execution_count": 61,
     "metadata": {},
     "output_type": "execute_result"
    }
   ],
   "source": [
    "2e13/counter_fibered[0].wnorm"
   ]
  },
  {
   "cell_type": "code",
   "execution_count": 72,
   "id": "7f99cea8-9e9d-4635-adae-deeecefff4ae",
   "metadata": {},
   "outputs": [],
   "source": [
    "dd_fibered = np.mean(np.array([np.sum(counter_fibered[i].wcounts, axis=1)/counter_fibered[i].wnorm for i in range(nmocks)]), axis=0)\n",
    "dd_complete = np.mean(np.array([np.sum(counter_complete[i].wcounts, axis=1)/counter_complete[i].wnorm for i in range(nmocks)]), axis=0)"
   ]
  },
  {
   "cell_type": "code",
   "execution_count": 73,
   "id": "095675e2-0ef0-4681-b7d3-8a9b1d6ed0a0",
   "metadata": {},
   "outputs": [],
   "source": [
    "fc_window_mocks = dd_fibered / dd_complete"
   ]
  },
  {
   "cell_type": "code",
   "execution_count": 74,
   "id": "8f76cee7-8d9b-4668-be61-efa03c5783cb",
   "metadata": {},
   "outputs": [
    {
     "data": {
      "image/png": "[encoded data removed]",
      "text/plain": [
       "<Figure size 600x400 with 1 Axes>"
      ]
     },
     "metadata": {},
     "output_type": "display_data"
    }
   ],
   "source": [
    "plt.plot(rp, fc_window_mocks)\n",
    "plt.xlabel(r'$r_{\\perp}$ [$\\mathrm{Mpc}/h$]')\n",
    "plt.ylabel(r'$DD^{\\mathrm{fibered}}/DD^{\\mathrm{complete}}$')\n",
    "#plt.savefig(os.path.join(plots_dir, 'dd_fibered_to_dd_complete.png'), dpi=200)\n",
    "plt.show()"
   ]
  },
  {
   "cell_type": "markdown",
   "id": "c6762d21-f0ec-47ad-a909-5a47a618998c",
   "metadata": {},
   "source": [
    "## Plot $RR^{fibered}/RR^{complete}$ as a function of $r_p$"
   ]
  },
  {
   "cell_type": "code",
   "execution_count": 63,
   "id": "a87c86c2-8c34-4822-9433-bf1d943eeb9b",
   "metadata": {},
   "outputs": [
    {
     "data": {
      "image/png": "[encoded data removed]",
      "text/plain": [
       "<Figure size 432x288 with 1 Axes>"
      ]
     },
     "metadata": {
      "needs_background": "light"
     },
     "output_type": "display_data"
    }
   ],
   "source": [
    "fn_fibered = 'RR_rp_mock{:d}_ELG_NGC_short.npy'\n",
    "fn_complete = 'RR_rp_mock{:d}_ELG_complete_NGC_short.npy'\n",
    "\n",
    "rr_fibered = np.sum(pycorr.TwoPointCounter.load(data_dir+fn_fibered.format(0)).wcounts, axis=1)\n",
    "rr_complete = np.sum(pycorr.TwoPointCounter.load(data_dir+fn_fibered.format(0)).wcounts, axis=1)\n",
    "\n",
    "fc_window_rr = rr_fibered / rr_complete\n",
    "\n",
    "plt.plot(rp, fc_window_rr)\n",
    "plt.xlabel(r'$r_p$ [$\\mathrm{Mpc}/h$]')\n",
    "plt.ylabel(r'$RR^{fibered}/RR^{complete}$')\n",
    "#plt.savefig('rr_fibered_to_rr_complete.png', dpi=200)\n",
    "plt.show()"
   ]
  },
  {
   "cell_type": "code",
   "execution_count": 102,
   "id": "9ce018ce-d0de-4a7c-aca2-171ca9aee087",
   "metadata": {},
   "outputs": [],
   "source": [
    "gamma = 1. / fc_window_mocks[-1]"
   ]
  },
  {
   "cell_type": "code",
   "execution_count": 103,
   "id": "ac8ccc58-a86e-4e2b-9eeb-5894db75d1d3",
   "metadata": {},
   "outputs": [],
   "source": [
    "def fc_window_model(rp, r1, r2, max_val=1):\n",
    "    res = np.full_like(rp, 1)\n",
    "    res[rp > r2] = 0\n",
    "    cond = (rp > r1) & (rp <= r2)\n",
    "    res[cond] = (rp[cond] - r2) / (r1 - r2)\n",
    "    return res*max_val"
   ]
  },
  {
   "cell_type": "code",
   "execution_count": 112,
   "id": "9b098bcf-61d2-441e-be25-f88cabf8e594",
   "metadata": {},
   "outputs": [
    {
     "data": {
      "image/png": "[encoded data removed]",
      "text/plain": [
       "<Figure size 432x288 with 1 Axes>"
      ]
     },
     "metadata": {
      "needs_background": "light"
     },
     "output_type": "display_data"
    }
   ],
   "source": [
    "plt.plot(rp, 1 - gamma * fc_window_mocks, label='Mocks')\n",
    "#plt.plot(rp, fc_window_model(rp, 0., 1.8, max_val=0.6), label='Model')\n",
    "#plt.plot([0., 1.4, 2.5], [0.6, 0.07, 0.], label='Model')\n",
    "plt.xlabel(r'$r_p$ [$\\mathrm{Mpc}/h$]')\n",
    "plt.ylabel(r'1 - $DD^{fibered}/DD^{complete}$')\n",
    "#plt.legend()\n",
    "plt.savefig('dd_fibered_to_dd_complete_window.png', dpi=200)\n",
    "plt.show()"
   ]
  },
  {
   "cell_type": "code",
   "execution_count": 116,
   "id": "ca6b2c27-cb1a-413d-9efb-d671ae016b15",
   "metadata": {},
   "outputs": [],
   "source": [
    "res = 1 - gamma * fc_window_mocks\n",
    "np.save('fc_window_ELG_NGC', [rp[rp < 2.5], res[rp < 2.5]])"
   ]
  },
  {
   "cell_type": "code",
   "execution_count": 114,
   "id": "97397590-5df0-4d90-a3c9-44d55c860763",
   "metadata": {},
   "outputs": [],
   "source": [
    "test = np.load('fc_window_ELG_NGC.npy')"
   ]
  },
  {
   "cell_type": "code",
   "execution_count": 115,
   "id": "53f9778c-f73d-48df-a854-2bd3f8871153",
   "metadata": {},
   "outputs": [
    {
     "data": {
      "text/plain": [
       "array([[0.06643629, 0.15501341, 0.25286392, 0.35280324, 0.45244281,\n",
       "        0.55165194, 0.65148788, 0.75122169, 0.85118248, 0.95107466,\n",
       "        1.05096517, 1.15081814, 1.25083127, 1.35059067, 1.45068531,\n",
       "        1.55031284, 1.65040925, 1.7505887 , 1.85050844, 1.95040875,\n",
       "        2.05034762, 2.15042286, 2.25036055, 2.35046039, 2.45043089],\n",
       "       [0.58715722, 0.56461329, 0.54210522, 0.51031694, 0.44706115,\n",
       "        0.38939562, 0.34577786, 0.3126732 , 0.2776892 , 0.24362353,\n",
       "        0.20366246, 0.16200472, 0.12679027, 0.09640577, 0.06911402,\n",
       "        0.04982314, 0.03345407, 0.02614575, 0.01952357, 0.01327646,\n",
       "        0.01077327, 0.00777256, 0.00702159, 0.00688892, 0.00496631]])"
      ]
     },
     "execution_count": 115,
     "metadata": {},
     "output_type": "execute_result"
    }
   ],
   "source": [
    "test"
   ]
  },
  {
   "cell_type": "code",
   "execution_count": 117,
   "id": "4181c57e-5a08-413b-8ab7-33c5a4dd7b9c",
   "metadata": {},
   "outputs": [
    {
     "data": {
      "text/plain": [
       "array([5.87157222e-01, 5.64613292e-01, 5.42105220e-01, 5.10316945e-01,\n",
       "       4.47061146e-01, 3.89395623e-01, 3.45777860e-01, 3.12673203e-01,\n",
       "       2.77689203e-01, 2.43623534e-01, 2.03662462e-01, 1.62004724e-01,\n",
       "       1.26790269e-01, 9.64057736e-02, 6.91140206e-02, 4.98231352e-02,\n",
       "       3.34540736e-02, 2.61457486e-02, 1.95235736e-02, 1.32764644e-02,\n",
       "       1.07732728e-02, 7.77255753e-03, 7.02158888e-03, 6.88891715e-03,\n",
       "       4.96630556e-03, 4.76929191e-03, 4.04576745e-03, 2.59845204e-03,\n",
       "       3.08615974e-03, 2.15860160e-03, 9.25722759e-04, 2.42118936e-03,\n",
       "       1.35383468e-04, 2.87477611e-04, 4.84951699e-04, 1.20960850e-03,\n",
       "       9.06757914e-04, 7.91347450e-04, 5.08064487e-04, 0.00000000e+00])"
      ]
     },
     "execution_count": 117,
     "metadata": {},
     "output_type": "execute_result"
    }
   ],
   "source": [
    " 1 - gamma * fc_window_mocks"
   ]
  },
  {
   "cell_type": "code",
   "execution_count": null,
   "id": "eac42bd0-ce2c-45a6-b78d-fc8376c07411",
   "metadata": {},
   "outputs": [],
   "source": []
  }
 ],
 "metadata": {
  "kernelspec": {
   "display_name": "cosmodesi-main",
   "language": "python",
   "name": "cosmodesi-main"
  },
  "language_info": {
   "codemirror_mode": {
    "name": "ipython",
    "version": 3
   },
   "file_extension": ".py",
   "mimetype": "text/x-python",
   "name": "python",
   "nbconvert_exporter": "python",
   "pygments_lexer": "ipython3",
   "version": "3.10.12"
  }
 },
 "nbformat": 4,
 "nbformat_minor": 5
}
