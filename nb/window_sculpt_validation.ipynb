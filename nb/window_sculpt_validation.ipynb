{
 "cells": [
  {
   "cell_type": "markdown",
   "id": "11c3bf5a-5d9a-4fec-8f7b-6ebf7a4d9c70",
   "metadata": {},
   "source": [
    "# Compare $W(k, k^{\\prime}) \\times P_{\\mathrm{cubic}}(k^{\\prime})$ and $P_{\\mathrm{cutsky}}(k)$ to validate window computation after sculpting-window transformation"
   ]
  },
  {
   "cell_type": "code",
   "execution_count": 1,
   "id": "177a7f59-b651-4dfb-89e2-e4e7b98718ba",
   "metadata": {
    "tags": []
   },
   "outputs": [],
   "source": [
    "import os\n",
    "import sys\n",
    "\n",
    "import numpy as np\n",
    "from matplotlib import pyplot as plt\n",
    "\n",
    "from desilike.samples import Profiles\n",
    "\n",
    "sys.path.append('../bin')\n",
    "from utils import load_poles, load_poles_list\n",
    "from cov_utils import truncate_cov\n",
    "from desi_file_manager import DESIFileName\n",
    "from local_file_manager import LocalFileName\n",
    "from sculpt_window import SculptWindow\n",
    "\n",
    "from pypower import PowerSpectrumSmoothWindowMatrix\n",
    "\n",
    "# plotting\n",
    "plt.style.use(os.path.join(os.path.abspath('../bin'), 'plot_style.mplstyle'))\n",
    "plots_dir = '../../plots/'"
   ]
  },
  {
   "cell_type": "markdown",
   "id": "c97b3b62-ad6e-4cee-8b62-5eb0034a8607",
   "metadata": {},
   "source": [
    "### Global parameters"
   ]
  },
  {
   "cell_type": "code",
   "execution_count": 2,
   "id": "74dad4d3-531a-44a5-9c3b-7ca94bf8b53c",
   "metadata": {
    "tags": []
   },
   "outputs": [],
   "source": [
    "# official desi ('desi') or locally ('local') generated window/pk\n",
    "source = 'desi'\n",
    "\n",
    "# mocks/version\n",
    "catalog = 'second'\n",
    "version = 'v3'\n",
    "imocks = range(25)\n",
    "\n",
    "# tracer\n",
    "tracer = 'ELG_LOP'\n",
    "region = 'SGC'\n",
    "completeness = True\n",
    "zrange = (0.8, 1.6)\n",
    "\n",
    "# multipoles\n",
    "ells = (0, 2, 4)\n",
    "ktmax = 0.5\n",
    "krange = (0.02, 0.2, 0.005)\n",
    "\n",
    "# cut\n",
    "rpcut = 0.\n",
    "thetacut = 0.05"
   ]
  },
  {
   "cell_type": "markdown",
   "id": "48171e4e-5b14-4e0b-bf7c-fc01d4a1344b",
   "metadata": {},
   "source": [
    "## $P_{\\mathrm{cubic}}(k)$"
   ]
  },
  {
   "cell_type": "code",
   "execution_count": 3,
   "id": "1e3bf381-26f8-415a-8aa2-f26956cb8f24",
   "metadata": {
    "tags": []
   },
   "outputs": [],
   "source": [
    "fn = LocalFileName()\n",
    "fn.set_default_config(mockgen='cubic', tracer=tracer)\n",
    "cubic_pk = load_poles_list([fn.get_path(realization=imock, los=los) for los in ('xyz') for imock in range(25)])"
   ]
  },
  {
   "cell_type": "markdown",
   "id": "0b922683-383d-418b-bf5a-b1eb34b5f447",
   "metadata": {},
   "source": [
    "### Model fitted on $P_{\\mathrm{cubic}}(k)$"
   ]
  },
  {
   "cell_type": "code",
   "execution_count": 4,
   "id": "71ab46f1-5ea8-4a3e-91c8-29663f36bcad",
   "metadata": {},
   "outputs": [],
   "source": [
    "data_dir = '/global/cfs/cdirs/desi/users/mpinon/cubicSecondGenMocks/'\n",
    "\n",
    "template_name = 'shapefitqisoqap'\n",
    "\n",
    "emulator_dir = os.path.join(data_dir, 'emulators/test/emulators_{}_ELG'.format(template_name))\n",
    "profiles_dir = os.path.join(data_dir, 'profiles/cubicsecondgenmocks/profiles_{}_ELG_complete'.format(template_name))\n",
    "profile_cubic = Profiles.load(os.path.join(profiles_dir, 'power_velocileptors.npy'))"
   ]
  },
  {
   "cell_type": "markdown",
   "id": "533180ff-95a2-4ed9-954d-70437e036cbc",
   "metadata": {},
   "source": [
    "## Window matrix $W^{\\prime}(k, k^{\\prime})$"
   ]
  },
  {
   "cell_type": "code",
   "execution_count": 5,
   "id": "0356095e-49fc-4b55-b417-d0736444a443",
   "metadata": {},
   "outputs": [],
   "source": [
    "fdir = \"/global/cfs/cdirs/desi/users/mpinon/secondGenMocksY1/{}/sculpt_window\".format(version)\n",
    "\n",
    "sculptwm_fn = LocalFileName().set_default_config(ftype='sculpt_all', tracer=tracer, region=region, completeness=completeness, realization=None, rpcut=rpcut, thetacut=thetacut)\n",
    "sculptwm_fn.update(fdir=fdir, zrange=zrange, cellsize=None, boxsize=None, directedges=False)\n",
    "sculptwm = SculptWindow.load(sculptwm_fn.get_path())\n",
    "\n",
    "wm = sculptwm.wmatrixnew\n",
    "koutrebin = 1\n",
    "wm.slice_x(sliceout=slice(0, len(wm.xout[0]) // koutrebin * koutrebin, koutrebin))\n",
    "wm.select_x(xoutlim=(krange[0], krange[1]))\n",
    "kinrebin = 10\n",
    "wm.slice_x(slicein=slice(0, len(wm.xin[0]) // kinrebin * kinrebin, kinrebin))\n",
    "wm.select_x(xinlim=(0.005, ktmax))\n",
    "\n",
    "mmatrix = sculptwm.mmatrix\n",
    "mo = sculptwm.mo\n",
    "cov = sculptwm.covnew\n",
    "cov = truncate_cov(cov, kinit=np.arange(0., 0.4, 0.005), kfinal=np.arange(*krange))\n",
    "stdY1 = np.sqrt(np.diag(cov)).reshape((3, len(cov[0])//3))"
   ]
  },
  {
   "cell_type": "markdown",
   "id": "e5da3409-e44b-4917-8712-d0c23f8287e7",
   "metadata": {},
   "source": [
    "### Theory from fitted $P_{\\mathrm{cubic}}(k)$"
   ]
  },
  {
   "cell_type": "code",
   "execution_count": 6,
   "id": "a50f7804-1703-4f1d-97bb-b306b9d2eb92",
   "metadata": {
    "tags": []
   },
   "outputs": [
    {
     "name": "stderr",
     "output_type": "stream",
     "text": [
      "/global/common/software/desi/users/adematti/perlmutter/cosmodesiconda/20231013-1.0.0/code/cosmoprimo/main/lib/python3.10/site-packages/cosmoprimo/eisenstein_hu.py:23: UserWarning: EisensteinHuNoWiggleEngine cannot cope with massive neutrinos\n",
      "  warnings.warn('{} cannot cope with massive neutrinos'.format(self.__class__.__name__))\n"
     ]
    }
   ],
   "source": [
    "from emulator_fit import get_fit_setup, get_template\n",
    "from desilike.theories.galaxy_clustering import LPTVelocileptorsTracerPowerSpectrumMultipoles\n",
    "\n",
    "z, b0, klim, slim = get_fit_setup(tracer=tracer, theory_name='velocileptors')\n",
    "for lim in klim.values():\n",
    "    lim = krange\n",
    "from cosmoprimo.fiducial import DESI\n",
    "fiducial = DESI()\n",
    "b1E = b0 / fiducial.growth_factor(z)\n",
    "\n",
    "template = get_template(template_name=template_name, z=z)\n",
    "\n",
    "theory = LPTVelocileptorsTracerPowerSpectrumMultipoles(template=template, ells=klim.keys(), k=wm.xin[0])\n",
    "pk_theory = theory(**profile_cubic.bestfit.choice(input=True))"
   ]
  },
  {
   "cell_type": "markdown",
   "id": "9372cf2c-d371-4624-a3be-60e063396b45",
   "metadata": {},
   "source": [
    "### $W^{\\prime}(k, k^{\\prime}) \\times P_{\\mathrm{theory}}(k^{\\prime})$"
   ]
  },
  {
   "cell_type": "code",
   "execution_count": 7,
   "id": "eed0370b",
   "metadata": {},
   "outputs": [],
   "source": [
    "wm_pk = (wm.value.T.dot(pk_theory.flatten())).reshape((len(ells), wm.shape[1]//len(ells)))"
   ]
  },
  {
   "cell_type": "markdown",
   "id": "84de6faa-3434-45c6-a2b4-3b93748940ca",
   "metadata": {
    "tags": []
   },
   "source": [
    "## $P^{\\prime}_{\\mathrm{cutsky}}(k)$"
   ]
  },
  {
   "cell_type": "code",
   "execution_count": 8,
   "id": "8f0be6f1-d214-42cd-8c1c-06c82a6b60ac",
   "metadata": {
    "tags": []
   },
   "outputs": [],
   "source": [
    "if source == 'desi':\n",
    "    fn = DESIFileName()\n",
    "    fn.set_default_config(version=version, tracer=tracer, region=region, completeness=completeness)\n",
    "elif source == 'local':\n",
    "    fn = LocalFileName()\n",
    "    fn.set_default_config(mockgen=catalog, tracer=tracer, region=region, completeness=completeness)\n",
    "    fn.update(cellsize=6)\n",
    "    \n",
    "cutsky_pk = load_poles_list([fn.get_path(realization=imock, rpcut=rpcut, thetacut=thetacut) for imock in range(25)], xlim={ell: (0, 0.4, 0.005) for ell in ells})\n",
    "# New Pk\n",
    "cutsky_pk_new = np.matmul(mmatrix, cutsky_pk['data'].flatten()).reshape((len(ells), len(cutsky_pk['data'].flatten())//len(ells)))"
   ]
  },
  {
   "cell_type": "code",
   "execution_count": 9,
   "id": "5fd9657e-5471-4e7a-a80a-bc9342a09367",
   "metadata": {
    "tags": []
   },
   "outputs": [
    {
     "data": {
      "text/plain": [
       "'/global/cfs/cdirs/desi/survey/catalogs/Y1/mocks/SecondGenMocks/AbacusSummit/desipipe/v3/complete/baseline_2pt/mock24/pk/pkpoles_ELG_LOP_SGC_z0.8-1.6_thetacut0.05.npy'"
      ]
     },
     "execution_count": 9,
     "metadata": {},
     "output_type": "execute_result"
    }
   ],
   "source": [
    "fn.get_path()"
   ]
  },
  {
   "cell_type": "code",
   "execution_count": 10,
   "id": "96c7e22d-b610-4863-af3b-37430d9a81ef",
   "metadata": {
    "tags": []
   },
   "outputs": [
    {
     "data": {
      "image/png": "[encoded data removed]",
      "text/plain": [
       "<Figure size 900x300 with 3 Axes>"
      ]
     },
     "metadata": {},
     "output_type": "display_data"
    }
   ],
   "source": [
    "fig, axes = plt.subplots(1, 3, figsize=(9, 3), sharey=False, sharex=True)\n",
    "\n",
    "for ill, ell in enumerate(ells):\n",
    "    axes[ill].plot(cutsky_pk['k'][ill], cutsky_pk['k'][ill] * cutsky_pk['data'][ill], color='C0', linestyle='-', label=r'$P(k)$')\n",
    "    axes[ill].plot(cutsky_pk['k'][ill], cutsky_pk['k'][ill] * cutsky_pk_new[ill], color='C1', linestyle='-', label=r'$P^{\\prime}(k)$')\n",
    "    axes[ill].set_xlabel(r'$k$ [$h$/Mpc]')\n",
    "    \n",
    "axes[0].set_ylabel(r'$k P_{\\ell}(k)$ [$(\\mathrm{Mpc}/h)^{2}$]')\n",
    "axes[0].legend()\n",
    "#plt.savefig(os.path.join(plots_dir, 'secondgenmocks_ELG_LOP_SGC_0.8_1.6{}_pknew_pk.png'.format('_rpcut{}'.format(rp_cut) if rp_cut else '')), dpi=300)\n",
    "plt.show()"
   ]
  },
  {
   "cell_type": "code",
   "execution_count": 11,
   "id": "c2ba0416-019b-45f2-ab9f-dfaa6a628ebe",
   "metadata": {
    "tags": []
   },
   "outputs": [],
   "source": [
    "mask = (np.arange(0, 0.4, 0.005) >= krange[0]) & (np.arange(0, 0.4, 0.005) < krange[1])\n",
    "cutsky_pk_new = cutsky_pk_new[:, mask]"
   ]
  },
  {
   "cell_type": "markdown",
   "id": "ed4adcbd-2f20-4dd2-ad2e-6c8dbd633da3",
   "metadata": {},
   "source": [
    "### Model fitted on $P^{\\prime}_{\\mathrm{cutsky}}(k)$"
   ]
  },
  {
   "cell_type": "code",
   "execution_count": 12,
   "id": "f8f250bc-f85f-4764-85de-8584ef6693c1",
   "metadata": {},
   "outputs": [],
   "source": [
    "data_dir = '/global/cfs/cdirs/desi/users/mpinon/secondGenMocksY1/{}'.format(version)\n",
    "\n",
    "template_name = 'shapefitqisoqap'\n",
    "\n",
    "if rpcut:\n",
    "    cutflag = '_rpcut{:.1f}'.format(rpcut)\n",
    "elif thetacut:\n",
    "    cutflag = '_thetacut{:.2f}'.format(thetacut)\n",
    "else:\n",
    "    cutflag = ''\n",
    "\n",
    "emulator_dir = os.path.join(data_dir, 'emulators/emulators_{}_ELG_LOP'.format(template_name))\n",
    "footprint_fn=os.path.join(data_dir, 'footprints', 'footprint_{}{}.npy')\n",
    "profiles_dir = os.path.join(data_dir, 'profiles', 'profiles_{}_ELG_LOP_complete_SGC'.format(template_name))\n",
    "profile_cutsky = Profiles.load(os.path.join(profiles_dir, 'power_velocileptors{}_sculptwindow_fixedsn.npy'.format(cutflag)))"
   ]
  },
  {
   "cell_type": "code",
   "execution_count": 13,
   "id": "2a41eda6-6adf-4b7b-8d35-20dc2116e903",
   "metadata": {
    "tags": []
   },
   "outputs": [
    {
     "ename": "NameError",
     "evalue": "name 'wmatrix_fn' is not defined",
     "output_type": "error",
     "traceback": [
      "\u001b[0;31m---------------------------------------------------------------------------\u001b[0m",
      "\u001b[0;31mNameError\u001b[0m                                 Traceback (most recent call last)",
      "Cell \u001b[0;32mIn[13], line 3\u001b[0m\n\u001b[1;32m      1\u001b[0m \u001b[38;5;28;01mfrom\u001b[39;00m \u001b[38;5;21;01memulator_fit\u001b[39;00m \u001b[38;5;28;01mimport\u001b[39;00m get_power_likelihood\n\u001b[0;32m----> 3\u001b[0m likelihood \u001b[38;5;241m=\u001b[39m \u001b[43mget_power_likelihood\u001b[49m\u001b[43m(\u001b[49m\u001b[43msource\u001b[49m\u001b[38;5;241;43m=\u001b[39;49m\u001b[43msource\u001b[49m\u001b[43m,\u001b[49m\u001b[43m \u001b[49m\u001b[43mcatalog\u001b[49m\u001b[38;5;241;43m=\u001b[39;49m\u001b[43mcatalog\u001b[49m\u001b[43m,\u001b[49m\u001b[43m \u001b[49m\u001b[43mversion\u001b[49m\u001b[38;5;241;43m=\u001b[39;49m\u001b[43mversion\u001b[49m\u001b[43m,\u001b[49m\u001b[43m \u001b[49m\u001b[43mtracer\u001b[49m\u001b[38;5;241;43m=\u001b[39;49m\u001b[43mtracer\u001b[49m\u001b[43m,\u001b[49m\u001b[43m \u001b[49m\u001b[43mregion\u001b[49m\u001b[38;5;241;43m=\u001b[39;49m\u001b[43mregion\u001b[49m\u001b[43m,\u001b[49m\u001b[43m \u001b[49m\u001b[43mcompleteness\u001b[49m\u001b[38;5;241;43m=\u001b[39;49m\u001b[43mcompleteness\u001b[49m\u001b[43m,\u001b[49m\u001b[43m \u001b[49m\u001b[43msolve\u001b[49m\u001b[38;5;241;43m=\u001b[39;49m\u001b[38;5;28;43;01mFalse\u001b[39;49;00m\u001b[43m,\u001b[49m\u001b[43m \u001b[49m\u001b[43mrp_cut\u001b[49m\u001b[38;5;241;43m=\u001b[39;49m\u001b[43mrpcut\u001b[49m\u001b[43m,\u001b[49m\u001b[43m \u001b[49m\u001b[43mtheta_cut\u001b[49m\u001b[38;5;241;43m=\u001b[39;49m\u001b[43mthetacut\u001b[49m\u001b[43m,\u001b[49m\u001b[43m \u001b[49m\u001b[43msculpt_window\u001b[49m\u001b[38;5;241;43m=\u001b[39;49m\u001b[38;5;28;43;01mTrue\u001b[39;49;00m\u001b[43m,\u001b[49m\u001b[43m \u001b[49m\u001b[43memulator_fn\u001b[49m\u001b[38;5;241;43m=\u001b[39;49m\u001b[43mos\u001b[49m\u001b[38;5;241;43m.\u001b[39;49m\u001b[43mpath\u001b[49m\u001b[38;5;241;43m.\u001b[39;49m\u001b[43mjoin\u001b[49m\u001b[43m(\u001b[49m\u001b[43memulator_dir\u001b[49m\u001b[43m,\u001b[49m\u001b[43m \u001b[49m\u001b[38;5;124;43m'\u001b[39;49m\u001b[38;5;124;43mpower_\u001b[39;49m\u001b[38;5;132;43;01m{}\u001b[39;49;00m\u001b[38;5;124;43m.npy\u001b[39;49m\u001b[38;5;124;43m'\u001b[39;49m\u001b[43m)\u001b[49m\u001b[43m,\u001b[49m\u001b[43m \u001b[49m\u001b[43mfootprint_fn\u001b[49m\u001b[38;5;241;43m=\u001b[39;49m\u001b[43mfootprint_fn\u001b[49m\u001b[43m)\u001b[49m\n\u001b[1;32m      5\u001b[0m likelihood\u001b[38;5;241m.\u001b[39msolved_default \u001b[38;5;241m=\u001b[39m \u001b[38;5;124m'\u001b[39m\u001b[38;5;124m.best\u001b[39m\u001b[38;5;124m'\u001b[39m\n\u001b[1;32m      6\u001b[0m likelihood(\u001b[38;5;241m*\u001b[39m\u001b[38;5;241m*\u001b[39mprofile_cutsky\u001b[38;5;241m.\u001b[39mbestfit\u001b[38;5;241m.\u001b[39mchoice(\u001b[38;5;28minput\u001b[39m\u001b[38;5;241m=\u001b[39m\u001b[38;5;28;01mTrue\u001b[39;00m))\n",
      "File \u001b[0;32m/global/u2/m/mpinon/fiber_collisions/desi_fiber_collisions/nb/../bin/emulator_fit.py:269\u001b[0m, in \u001b[0;36mget_power_likelihood\u001b[0;34m(source, catalog, version, tracer, region, completeness, theory_name, solve, rp_cut, theta_cut, direct, imock, sculpt_window, priors, save_emulator, emulator_fn, footprint_fn)\u001b[0m\n\u001b[1;32m    267\u001b[0m cov \u001b[38;5;241m=\u001b[39m truncate_cov(cov, kinit\u001b[38;5;241m=\u001b[39mnp\u001b[38;5;241m.\u001b[39marange(\u001b[38;5;241m0.\u001b[39m, \u001b[38;5;241m0.4\u001b[39m, \u001b[38;5;241m0.005\u001b[39m), kfinal\u001b[38;5;241m=\u001b[39mnp\u001b[38;5;241m.\u001b[39marange(\u001b[38;5;241m*\u001b[39mklim[\u001b[38;5;241m0\u001b[39m]))\n\u001b[1;32m    268\u001b[0m \u001b[38;5;28;01mif\u001b[39;00m sculpt_window:\n\u001b[0;32m--> 269\u001b[0m     cov_fn \u001b[38;5;241m=\u001b[39m \u001b[43mwmatrix_fn\u001b[49m\u001b[38;5;241m.\u001b[39mget_path(ftype\u001b[38;5;241m=\u001b[39m\u001b[38;5;124m'\u001b[39m\u001b[38;5;124mcov\u001b[39m\u001b[38;5;124m'\u001b[39m, realization\u001b[38;5;241m=\u001b[39m\u001b[38;5;28;01mNone\u001b[39;00m)\n\u001b[1;32m    270\u001b[0m     cov \u001b[38;5;241m=\u001b[39m np\u001b[38;5;241m.\u001b[39mload(cov_fn)\n\u001b[1;32m    271\u001b[0m     cov \u001b[38;5;241m=\u001b[39m truncate_cov(cov, kinit\u001b[38;5;241m=\u001b[39mnp\u001b[38;5;241m.\u001b[39marange(\u001b[38;5;241m0.\u001b[39m, \u001b[38;5;241m0.4\u001b[39m, \u001b[38;5;241m0.005\u001b[39m), kfinal\u001b[38;5;241m=\u001b[39mnp\u001b[38;5;241m.\u001b[39marange(\u001b[38;5;241m*\u001b[39mklim[\u001b[38;5;241m0\u001b[39m]))\n",
      "\u001b[0;31mNameError\u001b[0m: name 'wmatrix_fn' is not defined"
     ]
    }
   ],
   "source": [
    "from emulator_fit import get_power_likelihood\n",
    "\n",
    "likelihood = get_power_likelihood(source=source, catalog=catalog, version=version, tracer=tracer, region=region, completeness=completeness, solve=False, rp_cut=rpcut, theta_cut=thetacut, sculpt_window=True, emulator_fn=os.path.join(emulator_dir, 'power_{}.npy'), footprint_fn=footprint_fn)\n",
    "\n",
    "likelihood.solved_default = '.best'\n",
    "likelihood(**profile_cutsky.bestfit.choice(input=True))\n",
    "cutsky_obs = likelihood.observables[0]\n",
    "pk_obs = cutsky_obs.theory"
   ]
  },
  {
   "cell_type": "code",
   "execution_count": null,
   "id": "36d8186b-d005-4386-a076-dc4b1fb3121e",
   "metadata": {
    "tags": []
   },
   "outputs": [],
   "source": [
    "print(profile_cutsky.bestfit['syst_0'][0])\n",
    "print(profile_cutsky.bestfit['syst_1'])\n",
    "print(profile_cutsky.bestfit['syst_2'])"
   ]
  },
  {
   "cell_type": "markdown",
   "id": "b3463d8f-3435-4a1c-aa14-241a1673198f",
   "metadata": {},
   "source": [
    "## Plot"
   ]
  },
  {
   "cell_type": "code",
   "execution_count": null,
   "id": "0dee13fa-4f58-4b8b-a35e-947d89854efe",
   "metadata": {
    "tags": []
   },
   "outputs": [],
   "source": [
    "fig, axes = plt.subplots(2, 3, figsize=(10, 4), sharey=False, sharex=True, gridspec_kw={'height_ratios': [4, 2]})\n",
    "\n",
    "for ill, ell in enumerate(ells):\n",
    "    axes[0][ill].errorbar(cutsky_pk['k'][ill][mask], cutsky_pk['k'][ill][mask] * cutsky_pk_new[ill], cutsky_pk['k'][ill][mask]*stdY1[ill]/5, color='C{}'.format(ill), marker='.', ls='', label=r'$P^{\\prime}(k)$')\n",
    "    axes[0][ill].plot(cutsky_obs.k[ill], cutsky_obs.k[ill] * cutsky_obs.theory[ill], color='C{:d}'.format(ill), linestyle='-', label=r'fit')\n",
    "    axes[0][ill].set_title(r'$\\ell={}$'.format(ell))\n",
    "    \n",
    "    axes[1][ill].plot(cutsky_pk['k'][ill][mask], (cutsky_obs.theory[ill] - cutsky_pk_new[ill])/stdY1[ill], color='C{}'.format(ill))\n",
    "    axes[1][ill].set_xlabel(r'$k$ [$h$/Mpc]')\n",
    "    \n",
    "axes[0][0].set_ylabel(r'$k P_{\\ell}(k)$ [$(\\mathrm{Mpc}/h)^{2}$]')\n",
    "axes[1][0].set_ylabel(r'$\\Delta P_{\\ell}(k) / \\sigma$')\n",
    "axes[0][0].legend()\n",
    "fig.align_ylabels()\n",
    "plt.show()"
   ]
  },
  {
   "cell_type": "code",
   "execution_count": null,
   "id": "fbdbd54e-2e08-4fa9-8916-2e1a425eafe2",
   "metadata": {
    "tags": []
   },
   "outputs": [],
   "source": [
    "mask_flat = np.concatenate((mask, )*len(ells))"
   ]
  },
  {
   "cell_type": "code",
   "execution_count": null,
   "id": "0d6f833c-dc73-4572-b04c-9a1519d2d93f",
   "metadata": {
    "tags": []
   },
   "outputs": [],
   "source": [
    "def chi2(m):\n",
    "    nells = wm_pk.shape[0]\n",
    "    r = wm_pk - cutsky_pk_new + (m.dot(mo[:, mask_flat])).reshape(wm_pk.shape)\n",
    "    chisq = np.sum(r**2 / stdY1**2)\n",
    "    return chisq\n",
    "\n",
    "from scipy.optimize import minimize\n",
    "\n",
    "minimizer = minimize(chi2, x0=np.array([1, 1, 1]))\n",
    "print(minimizer)"
   ]
  },
  {
   "cell_type": "code",
   "execution_count": null,
   "id": "18861eb4-078f-4ca5-8923-6b93308b10a4",
   "metadata": {
    "tags": []
   },
   "outputs": [],
   "source": [
    "m = minimizer.x"
   ]
  },
  {
   "cell_type": "code",
   "execution_count": null,
   "id": "e76807c6-dfe4-408c-8a6e-62514d4d5eb8",
   "metadata": {
    "tags": []
   },
   "outputs": [],
   "source": [
    "m = np.array([profile_cutsky.bestfit['syst_{}'.format(i)][0] for i in range(len(ells))])\n",
    "\n",
    "mmo = (m.dot(mo[:, mask_flat])).reshape(wm_pk.shape)"
   ]
  },
  {
   "cell_type": "code",
   "execution_count": null,
   "id": "d1574ba0-a1ff-4f36-a3c4-a5a6615b35cc",
   "metadata": {},
   "outputs": [],
   "source": [
    "fig, axes = plt.subplots(2, 3, figsize=(10, 4), sharey=False, sharex=True, gridspec_kw={'height_ratios': [4, 2]})\n",
    "\n",
    "for ill, ell in enumerate(ells):\n",
    "    axes[0][ill].errorbar(cutsky_pk['k'][ill][mask], cutsky_pk['k'][ill][mask] * cutsky_pk_new[ill], cutsky_pk['k'][ill][mask]*stdY1[ill]/5, color='C{}'.format(ill), marker='.', ls='', label=r'$P^{\\prime}(k)$')\n",
    "    axes[0][ill].plot(wm.xout[ill], wm.xout[ill] * (wm_pk[ill] + mmo[ill]), color='C{}'.format(ill), label=r'$W^{\\prime}(k, k^{\\prime}) P^{\\prime}_{\\mathrm{th}}(k^{\\prime})$')\n",
    "    axes[0][ill].set_title(r'$\\ell={}$'.format(ell))\n",
    "    \n",
    "    axes[1][ill].plot(wm.xout[ill], (wm_pk[ill] + mmo[ill] - cutsky_pk_new[ill])/stdY1[ill], color='C{}'.format(ill))\n",
    "    axes[1][ill].set_xlabel(r'$k$ [$h$/Mpc]')\n",
    "    \n",
    "axes[0][0].set_ylabel(r'$k P_{\\ell}(k)$ [$(\\mathrm{Mpc}/h)^{2}$]')\n",
    "axes[1][0].set_ylabel(r'$\\Delta P_{\\ell}(k) / \\sigma$')\n",
    "axes[0][0].legend()\n",
    "fig.align_ylabels()\n",
    "plt.savefig(os.path.join(plots_dir, version, 'window_sculpt_validation_{}mocks{}_{}cut{:.2f}_{}_{}_ktmax{}.pdf'.format(len(imocks), '_complete' if completeness else '_fa', 'rp' if rpcut else 'theta', max(rpcut, thetacut), tracer, region, ktmax)), dpi=200)\n",
    "plt.show()"
   ]
  }
 ],
 "metadata": {
  "kernelspec": {
   "display_name": "cosmodesi-main",
   "language": "python",
   "name": "cosmodesi-main"
  },
  "language_info": {
   "codemirror_mode": {
    "name": "ipython",
    "version": 3
   },
   "file_extension": ".py",
   "mimetype": "text/x-python",
   "name": "python",
   "nbconvert_exporter": "python",
   "pygments_lexer": "ipython3",
   "version": "3.10.12"
  }
 },
 "nbformat": 4,
 "nbformat_minor": 5
}
